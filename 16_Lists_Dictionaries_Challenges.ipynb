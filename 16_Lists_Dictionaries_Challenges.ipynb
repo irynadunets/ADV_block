{
  "nbformat": 4,
  "nbformat_minor": 0,
  "metadata": {
    "colab": {
      "provenance": [],
      "include_colab_link": true
    },
    "kernelspec": {
      "name": "python3",
      "display_name": "Python 3"
    },
    "language_info": {
      "name": "python"
    }
  },
  "cells": [
    {
      "cell_type": "markdown",
      "metadata": {
        "id": "view-in-github",
        "colab_type": "text"
      },
      "source": [
        "<a href=\"https://colab.research.google.com/github/irynadunets/ADV_block/blob/master/16_Lists_Dictionaries_Challenges.ipynb\" target=\"_parent\"><img src=\"https://colab.research.google.com/assets/colab-badge.svg\" alt=\"Open In Colab\"/></a>"
      ]
    },
    {
      "cell_type": "markdown",
      "metadata": {
        "id": "nEJLJX3J9B2k"
      },
      "source": [
        "# Some challenges to help you become more confident with using Lists, Tuples and Dictionaries\n",
        "\n",
        "---\n",
        "\n"
      ]
    },
    {
      "cell_type": "markdown",
      "metadata": {
        "id": "JvV6htgh9Nc1"
      },
      "source": [
        "### Exercise 1 - extending a list\n",
        "\n",
        "There are three ways to extend a list in Python:  \n",
        "*  use `list_name.append(item)`, `list_name.insert(item)`\n",
        "*  concatenate two lists using the + operator (e.g. new_list = list1 + list2)\n",
        "*  use `list1_name.extend(list2_name)`\n",
        "\n",
        "The last method allows us to add all the `list2` items onto `list1` and for the new, extended list to now be `list1`.  `list2` will always be added to the end of `list1`.  \n",
        "\n",
        "If the objective is to add list2 before list1 then use `list2.extend(list1)`\n",
        "\n",
        "Write a function which will:  \n",
        "*  create a list of **years** containing the years 1960, 1970, 1980, 1990, 2000  \n",
        "*  print the list of years  \n",
        "*  calculate how long ago each year was and print the year and how long ago it was (e.g. 1990 was 30 years ago)  *(Hint:  use the datetime library to get the current year)*   \n",
        "*  create a second list, **years2** containing the years 2010 and 2020, extend `years` to include these later years\n",
        "*  create a third list, **years3** containing the years 1930, 1940 and 1950 and extend the list to include all the years between 1930 and 2020\n",
        "*  print the final list\n",
        "\n",
        "Expected output:  \n",
        "[1960, 1970, 1980, 1990]  \n",
        "1960 was 61 years ago  \n",
        "1970 was 51 years ago  \n",
        "1980 was 41 years ago  \n",
        "1990 was 31 years ago  \n",
        "2000 was 21 years ago  \n",
        "[1930, 1940, 1950, 1960, 1970, 1980, 1990, 2000, 2010, 2020]"
      ]
    },
    {
      "cell_type": "code",
      "metadata": {
        "id": "QAyTVqoO8-08",
        "outputId": "2d963762-f017-4550-ce74-d4cf96375f3d",
        "colab": {
          "base_uri": "https://localhost:8080/"
        }
      },
      "source": [
        "import datetime\n",
        "from datetime import datetime\n",
        "\n",
        "def extending_list():\n",
        "  years1 = [1960,1970,1980,1990,2000]\n",
        "  print(years1)\n",
        "  for x in years1:\n",
        "    print(x,' was', datetime.now().year-x-2,' years ago')\n",
        "  years2 = [2010, 2020]\n",
        "  years1.extend(years2)\n",
        "  years3 = [1930, 1940, 1950]\n",
        "  years3.extend(years1)\n",
        "  print(years3)\n",
        "\n",
        "extending_list()"
      ],
      "execution_count": null,
      "outputs": [
        {
          "output_type": "stream",
          "name": "stdout",
          "text": [
            "[1960, 1970, 1980, 1990, 2000]\n",
            "1960  was 61  years ago\n",
            "1970  was 51  years ago\n",
            "1980  was 41  years ago\n",
            "1990  was 31  years ago\n",
            "2000  was 21  years ago\n",
            "[1930, 1940, 1950, 1960, 1970, 1980, 1990, 2000, 2010, 2020]\n"
          ]
        }
      ]
    },
    {
      "cell_type": "markdown",
      "metadata": {
        "id": "S5iPicFzBzOW"
      },
      "source": [
        "---\n",
        "### Exercise 2 - creating a dictionary from a tuple and three lists\n",
        "\n",
        "Write a function which will create a list of dictionary items using the values in a tuple as the dictionary keys and the values in three corresponding lists as the dictionary values.\n",
        "\n",
        "*  loop through the status items in the tuple called task_status\n",
        "*  for each status, loop through the list with the same name (*Hint:  you can use eval(status) to access the list with the matching name  e.g. for task in eval(status)* )\n",
        "*  each time round this second loop, create a dictionary object with the  key:value pair {status : task}\n",
        "*  add each new dictionary to a list called **project_board** that was created as an empty list before the loops  \n",
        "*  print the project_board list\n",
        "\n",
        "Expected output:  \n",
        "\n",
        "[{'assigned': 'task1'}, {'assigned': 'task2'}, {'assigned': 'task3'}, {'inprogress': 'task4'}, {'inprogress': 'task5'}, {'inprogress': 'task6'}, {'completed': 'task7'}, {'completed': 'task8'}, {'completed': 'task9'}]\n",
        "\n"
      ]
    },
    {
      "cell_type": "code",
      "metadata": {
        "id": "KXYOSHY-C7m4",
        "outputId": "477a904e-124c-4ec6-fa23-b9583a280885",
        "colab": {
          "base_uri": "https://localhost:8080/"
        }
      },
      "source": [
        "def create_project_board():\n",
        "  task_status = (\"assigned\", \"inprogress\", \"completed\")\n",
        "  assigned = ['task1','task2','task3']\n",
        "  inprogress = ['task4','task5','task6']\n",
        "  completed = ['task7','task8','task9']\n",
        "  #  add your code below here\n",
        "\n",
        "  dictionary = {}\n",
        "  project_board = []\n",
        "\n",
        "  for ts in task_status:\n",
        "    for t in eval(ts):\n",
        "      dictionary[ts] = t\n",
        "      project_board.append({ts: dictionary[ts]})\n",
        "  print(project_board)\n",
        "\n",
        "create_project_board()\n"
      ],
      "execution_count": null,
      "outputs": [
        {
          "output_type": "stream",
          "name": "stdout",
          "text": [
            "[{'assigned': 'task1'}, {'assigned': 'task2'}, {'assigned': 'task3'}, {'inprogress': 'task4'}, {'inprogress': 'task5'}, {'inprogress': 'task6'}, {'completed': 'task7'}, {'completed': 'task8'}, {'completed': 'task9'}]\n"
          ]
        }
      ]
    },
    {
      "cell_type": "markdown",
      "metadata": {
        "id": "M1BuTu9p19Ma"
      },
      "source": [
        "---\n",
        "### Exercise 3 - names and heights\n",
        "\n",
        "Write a function which will allow a user to enter the names and heights of a set of people and add each set of information as a record (dictionary) to a list. The function will stop collecting names and heights when the user enters \"STOP\" as the name.\n",
        "\n",
        "Then, the function will:  \n",
        "\n",
        "*   produce a list of names in order of the shortest person to the tallest\n",
        "*   calculate the name of the tallest person\n",
        "*   calculate the name of the shortest person\n",
        "*   calculate the average height\n",
        "*   calculate the name of the person who is closest to the average height\n",
        "\n",
        "\n",
        "\n",
        "\n"
      ]
    },
    {
      "cell_type": "code",
      "metadata": {
        "id": "reuyww3e18uv",
        "colab": {
          "base_uri": "https://localhost:8080/"
        },
        "outputId": "e99b051a-a933-41ce-da8f-36c86c3a465a"
      },
      "source": [
        "def names_heights():\n",
        "\n",
        "  name = \"abc\"\n",
        "  dictionary = {}\n",
        "\n",
        "  while name != \"STOP\":\n",
        "    name = input(\"Input name \")\n",
        "    if name!= \"STOP\":\n",
        "      height = input(\"Input height \")\n",
        "      dictionary[name] = height\n",
        "\n",
        "  sorted_dictionary = sorted(dictionary.items(), key=lambda x: x[1])\n",
        "\n",
        "  print(sorted_dictionary)\n",
        "  print('Shortest person name', sorted_dictionary[0][0] )\n",
        "  print('Tallest person name', sorted_dictionary[-1][0])\n",
        "\n",
        "  avg = 0\n",
        "  n = 0\n",
        "\n",
        "  for x in dictionary.values():\n",
        "    avg = avg + int(x)\n",
        "    n = n + 1\n",
        "  avg = avg/n\n",
        "  print('Average height is: ',avg )\n",
        "\n",
        "  dif_previos = avg - float(sorted_dictionary[0][1])\n",
        "  name_closest = sorted_dictionary[0][0]\n",
        "\n",
        "  for key,value in dictionary.items():\n",
        "    dif = avg - float(value)\n",
        "    if dif < 0 : dif = -dif\n",
        "    if dif < dif_previos:\n",
        "      dif_previos = dif\n",
        "      name_closest = key\n",
        "\n",
        "  print(name_closest)\n",
        "\n",
        "names_heights()\n",
        "\n"
      ],
      "execution_count": 1,
      "outputs": [
        {
          "output_type": "stream",
          "name": "stdout",
          "text": [
            "Input name Tom \n",
            "Input height 123\n",
            "Input name Herry\n",
            "Input height 189\n",
            "Input name Rod\n",
            "Input height 144\n",
            "Input name STOP\n",
            "[('Tom ', '123'), ('Rod', '144'), ('Herry', '189')]\n",
            "Shortest person name Tom \n",
            "Tallest person name Herry\n",
            "Average height is:  152.0\n",
            "Rod\n"
          ]
        }
      ]
    },
    {
      "cell_type": "code",
      "source": [],
      "metadata": {
        "id": "CW33t-4ZeJfN"
      },
      "execution_count": null,
      "outputs": []
    }
  ]
}