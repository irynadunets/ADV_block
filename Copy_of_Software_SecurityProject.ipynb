{
  "nbformat": 4,
  "nbformat_minor": 0,
  "metadata": {
    "colab": {
      "provenance": [],
      "include_colab_link": true
    },
    "kernelspec": {
      "name": "python3",
      "display_name": "Python 3"
    },
    "language_info": {
      "name": "python"
    }
  },
  "cells": [
    {
      "cell_type": "markdown",
      "metadata": {
        "id": "view-in-github",
        "colab_type": "text"
      },
      "source": [
        "<a href=\"https://colab.research.google.com/github/irynadunets/Introduction_to_Python/blob/master/Copy_of_Software_SecurityProject.ipynb\" target=\"_parent\"><img src=\"https://colab.research.google.com/assets/colab-badge.svg\" alt=\"Open In Colab\"/></a>"
      ]
    },
    {
      "cell_type": "code",
      "execution_count": null,
      "metadata": {
        "id": "AwaSKQWnH9RX",
        "colab": {
          "base_uri": "https://localhost:8080/",
          "height": 1000
        },
        "outputId": "dfe3fd72-b286-4e92-9a72-3ec3caba1abc"
      },
      "outputs": [
        {
          "output_type": "stream",
          "name": "stdout",
          "text": [
            "test1:\n",
            "55.816555, -4.30989, 4, Hutchesons' Grammar School\n",
            "55.816555, -4.30989, 4, Eastwood High School\n",
            "55.816555, -4.30989, 4, Glasgow Club Bellahouston\n",
            "55.816555, -4.30989, 4, Bellahouston Academy\n",
            "55.816555, -4.30989, 4, Pro-Soccer\n",
            "55.816555, -4.30989, 4, St Vincent’s Primary School\n",
            "55.816555, -4.30989, 4, Cleeves Primary School\n",
            "55.816555, -4.30989, 4, Thornliebank Primary School\n",
            "55.816555, -4.30989, 4, Our Lady of the Mission Primary School\n",
            "55.816555, -4.30989, 4, Hillpark Autism Unit\n",
            "55.816555, -4.30989, 4, Fotheringay Centre\n",
            "55.816555, -4.30989, 4, Animal Man Parties\n",
            "55.816555, -4.30989, 4, Woodland Outdoor Kindergartens\n",
            "55.816555, -4.30989, 4, Kumon Maths & English\n",
            "55.816555, -4.30989, 4, Carmichael Nursery School\n",
            "55.816555, -4.30989, 4, Wendy King\n",
            "55.816555, -4.30989, 4, Burnbrae Children's Centre\n",
            "55.816555, -4.30989, 4, Zippytotz\n",
            "55.816555, -4.30989, 4, Tinto Primary School\n",
            "55.816555, -4.30989, 4, St Vincent's Autism Unit Co St Vincent's Primary\n",
            "\n",
            "test2:\n",
            "50.816555, -3.30989, 7, Payhembury C Of E Primary School\n",
            "50.816555, -3.30989, 7, Feniton Primary School\n",
            "50.816555, -3.30989, 7, Powerboat & RIB\n",
            "50.816555, -3.30989, 7, Clyst Hydon Primary School\n",
            "50.816555, -3.30989, 7, Plymtree Pre-school\n",
            "50.816555, -3.30989, 7, Plymtree C Of E Primary School\n",
            "50.816555, -3.30989, 7, Broadhembury Church of England Primary School\n",
            "50.816555, -3.30989, 7, The Forest School at Escot\n",
            "50.816555, -3.30989, 7, Awliscombe Primary School\n",
            "50.816555, -3.30989, 7, Accent Studios\n",
            "50.816555, -3.30989, 7, Kentisbeare C Of E Primary School\n",
            "50.816555, -3.30989, 7, Nanny Bears Nursery and Pre-school\n",
            "50.816555, -3.30989, 7, Whimple Preschool Playgroup\n",
            "50.816555, -3.30989, 7, Whimple Primary School\n",
            "50.816555, -3.30989, 7, A B C Day Nursery\n",
            "\n",
            "test3:\n",
            "58.816555, -3.30989, 9, North Walls Primary School\n",
            "58.816555, -3.30989, 9, North Walls Junior High School\n",
            "58.816555, -3.30989, 9, Little wards\n",
            "\n",
            "test4:\n",
            "\n",
            "test5:\n"
          ]
        },
        {
          "output_type": "error",
          "ename": "ValueError",
          "evalue": "Invalid latitude value.",
          "traceback": [
            "\u001b[0;31m---------------------------------------------------------------------------\u001b[0m",
            "\u001b[0;31mValueError\u001b[0m                                Traceback (most recent call last)",
            "\u001b[0;32m<ipython-input-10-53b6b9ded31b>\u001b[0m in \u001b[0;36m<cell line: 56>\u001b[0;34m()\u001b[0m\n\u001b[1;32m     54\u001b[0m \u001b[0;34m\u001b[0m\u001b[0m\n\u001b[1;32m     55\u001b[0m \u001b[0mprint\u001b[0m\u001b[0;34m(\u001b[0m\u001b[0;34m'test5:'\u001b[0m\u001b[0;34m)\u001b[0m\u001b[0;34m\u001b[0m\u001b[0;34m\u001b[0m\u001b[0m\n\u001b[0;32m---> 56\u001b[0;31m \u001b[0mresult5\u001b[0m \u001b[0;34m=\u001b[0m \u001b[0mGetLocationInfo\u001b[0m\u001b[0;34m(\u001b[0m\u001b[0;36m99.999995\u001b[0m\u001b[0;34m,\u001b[0m\u001b[0;36m0\u001b[0m\u001b[0;34m,\u001b[0m\u001b[0;36m5\u001b[0m\u001b[0;34m)\u001b[0m\u001b[0;34m\u001b[0m\u001b[0;34m\u001b[0m\u001b[0m\n\u001b[0m\u001b[1;32m     57\u001b[0m \u001b[0mprint\u001b[0m\u001b[0;34m(\u001b[0m\u001b[0mresult4\u001b[0m\u001b[0;34m)\u001b[0m\u001b[0;34m\u001b[0m\u001b[0;34m\u001b[0m\u001b[0m\n",
            "\u001b[0;32m<ipython-input-10-53b6b9ded31b>\u001b[0m in \u001b[0;36mGetLocationInfo\u001b[0;34m(latitude, longitude, radius)\u001b[0m\n\u001b[1;32m     21\u001b[0m     \u001b[0;32mraise\u001b[0m \u001b[0mTypeError\u001b[0m\u001b[0;34m(\u001b[0m\u001b[0;34m'Invalid radius data type'\u001b[0m\u001b[0;34m)\u001b[0m\u001b[0;34m\u001b[0m\u001b[0;34m\u001b[0m\u001b[0m\n\u001b[1;32m     22\u001b[0m    \u001b[0;32mif\u001b[0m \u001b[0mlatitude\u001b[0m \u001b[0;34m>\u001b[0m \u001b[0;36m90.0\u001b[0m \u001b[0;32mor\u001b[0m \u001b[0mlatitude\u001b[0m \u001b[0;34m<\u001b[0m \u001b[0;34m-\u001b[0m\u001b[0;36m90.0\u001b[0m\u001b[0;34m:\u001b[0m\u001b[0;34m\u001b[0m\u001b[0;34m\u001b[0m\u001b[0m\n\u001b[0;32m---> 23\u001b[0;31m         \u001b[0;32mraise\u001b[0m \u001b[0mValueError\u001b[0m\u001b[0;34m(\u001b[0m\u001b[0;34m\"Invalid latitude value.\"\u001b[0m\u001b[0;34m)\u001b[0m\u001b[0;34m\u001b[0m\u001b[0;34m\u001b[0m\u001b[0m\n\u001b[0m\u001b[1;32m     24\u001b[0m    \u001b[0;32mif\u001b[0m \u001b[0mlongitude\u001b[0m \u001b[0;34m>\u001b[0m \u001b[0;36m180.0\u001b[0m \u001b[0;32mor\u001b[0m \u001b[0mlongitude\u001b[0m \u001b[0;34m<\u001b[0m \u001b[0;34m-\u001b[0m\u001b[0;36m180.0\u001b[0m\u001b[0;34m:\u001b[0m\u001b[0;34m\u001b[0m\u001b[0;34m\u001b[0m\u001b[0m\n\u001b[1;32m     25\u001b[0m         \u001b[0;32mraise\u001b[0m \u001b[0mValueError\u001b[0m\u001b[0;34m(\u001b[0m\u001b[0;34m\"Invalid longitude value.\"\u001b[0m\u001b[0;34m)\u001b[0m\u001b[0;34m\u001b[0m\u001b[0;34m\u001b[0m\u001b[0m\n",
            "\u001b[0;31mValueError\u001b[0m: Invalid latitude value."
          ]
        }
      ],
      "source": [
        "!pip install googlemaps\n",
        "!pip install python-dotenv\n",
        "from dotenv import load_dotenv\n",
        "import os\n",
        "from google.colab import output\n",
        "import googlemaps\n",
        "\n",
        "def setAPI_key():\n",
        "   key = input(\"Enter the API key: \")\n",
        "   os.environ['API_KEY'] = key\n",
        "   output.clear()\n",
        "\n",
        "def GetLocationInfo(latitude, longitude, radius):\n",
        "   gmaps = googlemaps.Client(os.environ.get('API_KEY'))\n",
        "   string_shools = ''\n",
        "   if not isinstance(latitude,(float)) and not isinstance(latitude,(int)):\n",
        "    raise TypeError('Invalid latitude data type')\n",
        "   if not isinstance(longitude,(float)) and not isinstance(longitude,(int)):\n",
        "    raise TypeError('Invalid longitude data type')\n",
        "   if not isinstance(radius,(float)) and not isinstance(radius,(int)):\n",
        "    raise TypeError('Invalid radius data type')\n",
        "   if latitude > 90.0 or latitude < -90.0:\n",
        "        raise ValueError(\"Invalid latitude value.\")\n",
        "   if longitude > 180.0 or longitude < -180.0:\n",
        "        raise ValueError(\"Invalid longitude value.\")\n",
        "   if radius <= 0:\n",
        "        raise ValueError('Check the value of radius; is radius a non-negative?')\n",
        "   try:\n",
        "     places_result  = gmaps.places_nearby(location=str(latitude) + ',' + str(longitude), radius = radius*1000, type = \"school\")\n",
        "     for place in places_result['results']:\n",
        "       string_shools = string_shools + str(latitude) + ', ' + str(longitude) + ', ' + str(radius) + ', ' + str(place['name']) + '\\n'\n",
        "     return string_shools\n",
        "   except Exception as e:\n",
        "     print(\"Error: \" + str(e))\n",
        "     return str(e)\n",
        "\n",
        "setAPI_key()\n",
        "\n",
        "print('test1:')\n",
        "result1 = GetLocationInfo(55.816555,-4.309890,4)\n",
        "print(result1)\n",
        "\n",
        "print('test2:')\n",
        "result2 = GetLocationInfo(50.816555,-3.309890,7)\n",
        "print(result2)\n",
        "\n",
        "print('test3:')\n",
        "result3 = GetLocationInfo(58.816555,-3.309890,9)\n",
        "print(result3)\n",
        "\n",
        "print('test4:')\n",
        "result4 = GetLocationInfo(87.543255,0,10)\n",
        "print(result4)\n",
        "\n",
        "print('test5:')\n",
        "result5 = GetLocationInfo(99.999995,0,5)\n",
        "print(result4)"
      ]
    },
    {
      "cell_type": "code",
      "source": [
        "import unittest\n",
        "class TestsGetLocationInfo(unittest.TestCase):\n",
        "\n",
        "    # test with an correct data\n",
        "    def test_valid_data1(self):\n",
        "        self.assertEqual('55.816555, -4.30989, 4, Eastwood High School',GetLocationInfo(55.816555,-4.309890,4)[51:95])\n",
        "     # test with an correct data\n",
        "    def test_valid_data2(self):\n",
        "        self.assertEqual('55.816555, -4.30989, 4, Tinto Primary School',GetLocationInfo(55.816555,-4.309890,4)[-118:-74])\n",
        "     # test with an correct data\n",
        "    def test_valid_data3(self):\n",
        "        self.assertEqual('',GetLocationInfo(87.543255,0,10))\n",
        "\n",
        "    # test with an incorrect latitude data type\n",
        "    def test_GetLocationInfo_data_typeerror_1(self):\n",
        "        with self.assertRaises(TypeError):\n",
        "        \tGetLocationInfo('abc',-4.309890,4)\n",
        "    # test with an incorrect latitude data type\n",
        "    def test_GetLocationInfo_data_typeerror_2(self):\n",
        "        with self.assertRaises(TypeError):\n",
        "        \tGetLocationInfo('True',-4.309890,4)\n",
        "     # test with an incorrect longitude data type\n",
        "    def test_GetLocationInfo_data_typeerror_3(self):\n",
        "        with self.assertRaises(TypeError):\n",
        "        \tGetLocationInfo(55.816555,'abc',4)\n",
        "    # test with an incorrect longitude data type\n",
        "    def test_GetLocationInfo_data_typeerror_4(self):\n",
        "        with self.assertRaises(TypeError):\n",
        "        \tGetLocationInfo(55.816555,'False',4)\n",
        "     # test with an incorrect radius data type\n",
        "    def test_GetLocationInfo_data_typeerror_5(self):\n",
        "        with self.assertRaises(TypeError):\n",
        "        \tGetLocationInfo(55.816555,-4.309890,'abc')\n",
        "    # test with an incorrect radius data type\n",
        "    def test_GetLocationInfo_data_typeerror_6(self):\n",
        "        with self.assertRaises(TypeError):\n",
        "        \tGetLocationInfo(55.67,-4.309890,'True')\n",
        "\n",
        "    # test with an incorrect longitude data value\n",
        "    def test_valueerror1(self):\n",
        "        with self.assertRaises(ValueError):\n",
        "          GetLocationInfo(69.999995,187.40,5)\n",
        "    # test with an incorrect longitude data value\n",
        "    def test_valueerror2(self):\n",
        "        with self.assertRaises(ValueError):\n",
        "          GetLocationInfo(-79.999995,-189.230,5)\n",
        "    # test with an incorrect latitude data value\n",
        "    def test_valueerror3(self):\n",
        "        with self.assertRaises(ValueError):\n",
        "          GetLocationInfo(99.999995,0,5)\n",
        "    # test with an incorrect latitude data value\n",
        "    def test_valueerror4(self):\n",
        "        with self.assertRaises(ValueError):\n",
        "          GetLocationInfo(-99.999995,0,5)\n",
        "    # test with an incorrect radius value\n",
        "    def test_valueerror5(self):\n",
        "        with self.assertRaises(ValueError):\n",
        "          GetLocationInfo(-69.999995,0,-5)\n",
        "\n",
        "if __name__ == '__main__':\n",
        "\n",
        "  s = unittest.TestLoader().loadTestsFromTestCase(TestsGetLocationInfo)\n",
        "  unittest.TextTestRunner().run(s)"
      ],
      "metadata": {
        "colab": {
          "base_uri": "https://localhost:8080/"
        },
        "id": "EZFTIn346WPa",
        "outputId": "e2638e06-1317-48e1-b254-75c10cd18481"
      },
      "execution_count": null,
      "outputs": [
        {
          "output_type": "stream",
          "name": "stderr",
          "text": [
            "..............\n",
            "----------------------------------------------------------------------\n",
            "Ran 14 tests in 0.490s\n",
            "\n",
            "OK\n"
          ]
        }
      ]
    },
    {
      "cell_type": "code",
      "source": [
        "def delete_a_school(filedata,name):\n",
        "   if not isinstance(filedata,(str)):\n",
        "    raise TypeError('Invalid filedata data type')\n",
        "   if not isinstance(name,(str)):\n",
        "    raise TypeError('Invalid name data type')\n",
        "   if len(filedata) < len(name):\n",
        "        raise ValueError('Check the value of filedata')\n",
        "   data = filedata.split('\\n')\n",
        "   for x in data:\n",
        "    if x.find(name)!=-1:\n",
        "            data.remove(x)\n",
        "   return '\\n'.join(data)\n",
        "\n",
        "print(delete_a_school(result1,'Glasgow Club Bellahouston'))\n"
      ],
      "metadata": {
        "colab": {
          "base_uri": "https://localhost:8080/"
        },
        "id": "3GO15NnCW-Gg",
        "outputId": "b20b3cf8-05be-4e1c-f12b-8aeb039b7fa2"
      },
      "execution_count": null,
      "outputs": [
        {
          "output_type": "stream",
          "name": "stdout",
          "text": [
            "55.816555, -4.30989, 4, Hutchesons' Grammar School\n",
            "55.816555, -4.30989, 4, Eastwood High School\n",
            "55.816555, -4.30989, 4, Bellahouston Academy\n",
            "55.816555, -4.30989, 4, Pro-Soccer\n",
            "55.816555, -4.30989, 4, St Vincent’s Primary School\n",
            "55.816555, -4.30989, 4, Cleeves Primary School\n",
            "55.816555, -4.30989, 4, Thornliebank Primary School\n",
            "55.816555, -4.30989, 4, Our Lady of the Mission Primary School\n",
            "55.816555, -4.30989, 4, Hillpark Autism Unit\n",
            "55.816555, -4.30989, 4, Fotheringay Centre\n",
            "55.816555, -4.30989, 4, Animal Man Parties\n",
            "55.816555, -4.30989, 4, Woodland Outdoor Kindergartens\n",
            "55.816555, -4.30989, 4, Kumon Maths & English\n",
            "55.816555, -4.30989, 4, Carmichael Nursery School\n",
            "55.816555, -4.30989, 4, Wendy King\n",
            "55.816555, -4.30989, 4, Burnbrae Children's Centre\n",
            "55.816555, -4.30989, 4, Zippytotz\n",
            "55.816555, -4.30989, 4, Tinto Primary School\n",
            "55.816555, -4.30989, 4, St Vincent's Autism Unit Co St Vincent's Primary\n",
            "\n"
          ]
        }
      ]
    },
    {
      "cell_type": "code",
      "source": [
        "import unittest\n",
        "class TestsDeleteSchool(unittest.TestCase):\n",
        "\n",
        "    # test with an correct data\n",
        "    def test_valid_data1(self):\n",
        "        self.assertEqual('55.816555, -4.30989, 4, Bellahouston Academy',delete_a_school(GetLocationInfo(55.816555,-4.309890,4),'Glasgow Club Bellahouston')[96:140])\n",
        "\n",
        "    # test with an incorrect filedata data type\n",
        "    def test_DeleteSchool_data_typeerror_1(self):\n",
        "        with self.assertRaises(TypeError):\n",
        "        \tdelete_a_school(12345,'Zippytotz')\n",
        "    # test with an incorrect name data type\n",
        "    def test_DeleteSchool_data_typeerror_2(self):\n",
        "        with self.assertRaises(TypeError):\n",
        "        \tdelete_a_school(GetLocationInfo(55.816555,-4.309890,4),99999)\n",
        "\n",
        "    # test with an incorrect filedata value\n",
        "    def test_valueerror5(self):\n",
        "        with self.assertRaises(ValueError):\n",
        "          delete_a_school('','Zippytotz')\n",
        "\n",
        "if __name__ == '__main__':\n",
        "\n",
        "  s = unittest.TestLoader().loadTestsFromTestCase(TestsDeleteSchool)\n",
        "  unittest.TextTestRunner().run(s)"
      ],
      "metadata": {
        "colab": {
          "base_uri": "https://localhost:8080/"
        },
        "id": "KIXzS95CZJ5E",
        "outputId": "379c3a6b-6db5-4964-a4a5-3655ce3e03a6"
      },
      "execution_count": null,
      "outputs": [
        {
          "output_type": "stream",
          "name": "stderr",
          "text": [
            "....\n",
            "----------------------------------------------------------------------\n",
            "Ran 4 tests in 0.281s\n",
            "\n",
            "OK\n"
          ]
        }
      ]
    },
    {
      "cell_type": "code",
      "source": [],
      "metadata": {
        "id": "pbcQ7o1uZJhj"
      },
      "execution_count": null,
      "outputs": []
    },
    {
      "cell_type": "code",
      "source": [
        "import requests\n",
        "import json\n",
        "\n",
        "def save_a_file(result):\n",
        "\n",
        "  if not isinstance(result,(str)):\n",
        "    raise TypeError('Invalid file data type')\n",
        "\n",
        "  url = \"https://qyvk98549a.execute-api.eu-west-2.amazonaws.com/default/FindNearestSchoolsLambda\"\n",
        "\n",
        "  headers = {\n",
        "      \"Content-Type\":\"application/json\",\n",
        "      \"x-api-key\": input(\"Enter the API key so that it isn't stored in the notebook: \")\n",
        "  }\n",
        "\n",
        "  body = {\n",
        "    \"data\":{\n",
        "        \"action\": \"store\",\n",
        "        \"schools\": result\n",
        "    }\n",
        "  }\n",
        "\n",
        "  response = requests.post(url, headers=headers, data=json.dumps(body))\n",
        "  return response\n",
        "\n",
        "print('set1')\n",
        "result1 = GetLocationInfo(55.816555,-4.309890,4)\n",
        "save_a_file(result1)\n",
        "\n",
        "print('set2:')\n",
        "result2 = GetLocationInfo(50.816555,-3.309890,7)\n",
        "save_a_file(result2)\n",
        "\n",
        "print('set3:')\n",
        "result3 = GetLocationInfo(58.816555,-3.309890,9)\n",
        "save_a_file(result3)"
      ],
      "metadata": {
        "id": "H5JifWHib4q8"
      },
      "execution_count": null,
      "outputs": []
    },
    {
      "cell_type": "code",
      "source": [
        "import requests\n",
        "import json\n",
        "\n",
        "def get_a_file():\n",
        "\n",
        "  url = \"https://qyvk98549a.execute-api.eu-west-2.amazonaws.com/default/FindNearestSchoolsLambda\"\n",
        "\n",
        "  headers = {\n",
        "    \"Content-Type\":\"application/json\",\n",
        "    \"x-api-key\": input(\"Enter the API key so that it isn't stored in the notebook: \")\n",
        "  }\n",
        "\n",
        "  body = {\n",
        "    \"data\": {\n",
        "      \"action\": \"get\"\n",
        "    }\n",
        "  }\n",
        "\n",
        "  response = requests.post(url, headers=headers, data=json.dumps(body))\n",
        "  return response.text\n",
        "\n",
        "get_a_file()\n",
        "\n",
        "\n"
      ],
      "metadata": {
        "id": "r4X9kcaSw02D",
        "colab": {
          "base_uri": "https://localhost:8080/",
          "height": 157
        },
        "outputId": "14da1727-847a-48fc-cad8-5b73920ff72d"
      },
      "execution_count": null,
      "outputs": [
        {
          "name": "stdout",
          "output_type": "stream",
          "text": [
            "Enter the API key so that it isn't stored in the notebook: lVjE3I0uUdaU72VgUHws45jeOsEeEUurhpWKTSi9\n"
          ]
        },
        {
          "output_type": "execute_result",
          "data": {
            "text/plain": [
              "\"55.816555, -4.30989, 4, Hutchesons' Grammar School\\n55.816555, -4.30989, 4, Eastwood High School\\n55.816555, -4.30989, 4, Glasgow Club Bellahouston\\n55.816555, -4.30989, 4, Bellahouston Academy\\n55.816555, -4.30989, 4, Pro-Soccer\\n55.816555, -4.30989, 4, St Vincent’s Primary School\\n55.816555, -4.30989, 4, Cleeves Primary School\\n55.816555, -4.30989, 4, Thornliebank Primary School\\n55.816555, -4.30989, 4, Our Lady of the Mission Primary School\\n55.816555, -4.30989, 4, Hillpark Autism Unit\\n55.816555, -4.30989, 4, Fotheringay Centre\\n55.816555, -4.30989, 4, Animal Man Parties\\n55.816555, -4.30989, 4, Woodland Outdoor Kindergartens\\n55.816555, -4.30989, 4, Kumon Maths & English\\n55.816555, -4.30989, 4, Carmichael Nursery School\\n55.816555, -4.30989, 4, Wendy King\\n55.816555, -4.30989, 4, Burnbrae Children's Centre\\n55.816555, -4.30989, 4, Zippytotz\\n55.816555, -4.30989, 4, Tinto Primary School\\n55.816555, -4.30989, 4, St Vincent's Autism Unit Co St Vincent's Primary\\n55.816555, -4.30989, 4, Hutchesons' Grammar School\\n55.816555, -4.30989, 4, Eastwood High School\\n55.816555, -4.30989, 4, Glasgow Club Bellahouston\\n55.816555, -4.30989, 4, Bellahouston Academy\\n55.816555, -4.30989, 4, Pro-Soccer\\n55.816555, -4.30989, 4, St Vincent’s Primary School\\n55.816555, -4.30989, 4, Cleeves Primary School\\n55.816555, -4.30989, 4, Thornliebank Primary School\\n55.816555, -4.30989, 4, Our Lady of the Mission Primary School\\n55.816555, -4.30989, 4, Hillpark Autism Unit\\n55.816555, -4.30989, 4, Fotheringay Centre\\n55.816555, -4.30989, 4, Animal Man Parties\\n55.816555, -4.30989, 4, Woodland Outdoor Kindergartens\\n55.816555, -4.30989, 4, Kumon Maths & English\\n55.816555, -4.30989, 4, Carmichael Nursery School\\n55.816555, -4.30989, 4, Wendy King\\n55.816555, -4.30989, 4, Burnbrae Children's Centre\\n55.816555, -4.30989, 4, Zippytotz\\n55.816555, -4.30989, 4, Tinto Primary School\\n55.816555, -4.30989, 4, St Vincent's Autism Unit Co St Vincent's Primary\\n55.816555, -4.30989, 4, Hutchesons' Grammar School\\n55.816555, -4.30989, 4, Eastwood High School\\n55.816555, -4.30989, 4, Glasgow Club Bellahouston\\n55.816555, -4.30989, 4, Bellahouston Academy\\n55.816555, -4.30989, 4, Pro-Soccer\\n55.816555, -4.30989, 4, St Vincent’s Primary School\\n55.816555, -4.30989, 4, Cleeves Primary School\\n55.816555, -4.30989, 4, Thornliebank Primary School\\n55.816555, -4.30989, 4, Our Lady of the Mission Primary School\\n55.816555, -4.30989, 4, Hillpark Autism Unit\\n55.816555, -4.30989, 4, Fotheringay Centre\\n55.816555, -4.30989, 4, Animal Man Parties\\n55.816555, -4.30989, 4, Woodland Outdoor Kindergartens\\n55.816555, -4.30989, 4, Kumon Maths & English\\n55.816555, -4.30989, 4, Carmichael Nursery School\\n55.816555, -4.30989, 4, Wendy King\\n55.816555, -4.30989, 4, Burnbrae Children's Centre\\n55.816555, -4.30989, 4, Zippytotz\\n55.816555, -4.30989, 4, Tinto Primary School\\n55.816555, -4.30989, 4, St Vincent's Autism Unit Co St Vincent's Primary\\n55.816555, -4.30989, 4, Hutchesons' Grammar School\\n55.816555, -4.30989, 4, Eastwood High School\\n55.816555, -4.30989, 4, Glasgow Club Bellahouston\\n55.816555, -4.30989, 4, Bellahouston Academy\\n55.816555, -4.30989, 4, Pro-Soccer\\n55.816555, -4.30989, 4, St Vincent’s Primary School\\n55.816555, -4.30989, 4, Cleeves Primary School\\n55.816555, -4.30989, 4, Thornliebank Primary School\\n55.816555, -4.30989, 4, Our Lady of the Mission Primary School\\n55.816555, -4.30989, 4, Hillpark Autism Unit\\n55.816555, -4.30989, 4, Fotheringay Centre\\n55.816555, -4.30989, 4, Animal Man Parties\\n55.816555, -4.30989, 4, Woodland Outdoor Kindergartens\\n55.816555, -4.30989, 4, Kumon Maths & English\\n55.816555, -4.30989, 4, Carmichael Nursery School\\n55.816555, -4.30989, 4, Wendy King\\n55.816555, -4.30989, 4, Burnbrae Children's Centre\\n55.816555, -4.30989, 4, Zippytotz\\n55.816555, -4.30989, 4, Tinto Primary School\\n55.816555, -4.30989, 4, St Vincent's Autism Unit Co St Vincent's Primary\\n\""
            ],
            "application/vnd.google.colaboratory.intrinsic+json": {
              "type": "string"
            }
          },
          "metadata": {},
          "execution_count": 17
        }
      ]
    },
    {
      "cell_type": "code",
      "source": [
        "import unittest\n",
        "class TestsSaveFile(unittest.TestCase):\n",
        "\n",
        "   # test with an correct data\n",
        "    def test_valid_data1(self):\n",
        "        self.assertEqual(200,save_a_file(result1).statusCode)\n",
        "\n",
        "  # test with an correct data\n",
        "    def test_valid_data1(self):\n",
        "        self.assertEqual(\"Schools saved\",save_a_file(result1).text)\n",
        "\n",
        "   # test with an incorrect filename value\n",
        "    def test_valueerror(self):\n",
        "        with self.assertRaises(TypeError):\n",
        "          save_a_file(123)\n",
        "\n",
        "if __name__ == '__main__':\n",
        "\n",
        "  s = unittest.TestLoader().loadTestsFromTestCase(TestsSaveFile)\n",
        "  unittest.TextTestRunner().run(s)"
      ],
      "metadata": {
        "colab": {
          "base_uri": "https://localhost:8080/"
        },
        "id": "WVizN9HSU2AZ",
        "outputId": "6f5ce17f-26fc-446c-c950-65afca2538fd"
      },
      "execution_count": null,
      "outputs": [
        {
          "name": "stdout",
          "output_type": "stream",
          "text": [
            "Enter the API key so that it isn't stored in the notebook: lVjE3I0uUdaU72VgUHws45jeOsEeEUurhpWKTSi9\n"
          ]
        },
        {
          "output_type": "stream",
          "name": "stderr",
          "text": [
            "..\n",
            "----------------------------------------------------------------------\n",
            "Ran 2 tests in 9.801s\n",
            "\n",
            "OK\n"
          ]
        }
      ]
    },
    {
      "cell_type": "code",
      "source": [
        "import unittest\n",
        "class TestsGetFile(unittest.TestCase):\n",
        "\n",
        "   # test with an correct data\n",
        "    def test_valid_data1(self):\n",
        "        self.assertEqual('55.816555, -4.30989, 4, Eastwood High School',get_a_file()[51:95])\n",
        "if __name__ == '__main__':\n",
        "\n",
        "  s = unittest.TestLoader().loadTestsFromTestCase(TestsGetFile)\n",
        "  unittest.TextTestRunner().run(s)"
      ],
      "metadata": {
        "id": "fT_QpzVgiqN_"
      },
      "execution_count": null,
      "outputs": []
    },
    {
      "cell_type": "code",
      "source": [
        "## functions.py\n",
        "!pip install boto3\n",
        "import boto3\n",
        "import io\n",
        "import os\n",
        "\n",
        "\n",
        "def get_S3_client():\n",
        "  s3_resource = boto3.client('s3')\n",
        "  return s3_resource\n",
        "\n",
        "def get_file(s3_client, filename):\n",
        "  # get the file from the bucket\n",
        "  if filename[-4:] != '.csv':\n",
        "    raise ValueError('Check the value of filename')\n",
        "  try:\n",
        "     file_object = s3_client.get_object(Bucket=os.environ.get('BUCKET_NAME'), Key=filename)\n",
        "     data_file = file_object['Body'].read()\n",
        "  except Exception as e:\n",
        "     print(\"Error: \" + str(e))\n",
        "     return ''\n",
        "  return str(data_file.decode(\"utf-8\"))\n",
        "\n",
        "def save_a_file(filedata, filename):\n",
        "  # create a new file by uploading the data with the new filename\n",
        "  s3_client = get_S3_client()\n",
        "  if filename[-4:] != '.csv':\n",
        "    raise ValueError('Check the value of filename')\n",
        "  if len(get_file(s3_client, filename)) > 0:\n",
        "    filedata = get_file(s3_client, filename) + filedata\n",
        "  response = s3_client.put_object(Bucket=os.environ.get('BUCKET_NAME'), Body=filedata, Key=filename)\n",
        "\n",
        "def delete_a_school(filedata,name):\n",
        "   if not isinstance(filedata,(str)):\n",
        "    raise TypeError('Invalid filedata data type')\n",
        "   if not isinstance(name,(str)):\n",
        "    raise TypeError('Invalid name data type')\n",
        "   if len(filedata) < len(name):\n",
        "        raise ValueError('Check the value of filedata')\n",
        "   data = filedata.split('\\n')\n",
        "   for x in data:\n",
        "    if x.find(name)!=-1:\n",
        "            data.remove(x)\n",
        "   return '\\n'.join(data)"
      ],
      "metadata": {
        "id": "YW3-4QbguHWz",
        "colab": {
          "base_uri": "https://localhost:8080/"
        },
        "outputId": "f6cb162a-9ad8-4cef-8eb2-024b0a0556f3"
      },
      "execution_count": null,
      "outputs": [
        {
          "output_type": "stream",
          "name": "stdout",
          "text": [
            "Requirement already satisfied: boto3 in /usr/local/lib/python3.10/dist-packages (1.34.54)\n",
            "Requirement already satisfied: botocore<1.35.0,>=1.34.54 in /usr/local/lib/python3.10/dist-packages (from boto3) (1.34.54)\n",
            "Requirement already satisfied: jmespath<2.0.0,>=0.7.1 in /usr/local/lib/python3.10/dist-packages (from boto3) (1.0.1)\n",
            "Requirement already satisfied: s3transfer<0.11.0,>=0.10.0 in /usr/local/lib/python3.10/dist-packages (from boto3) (0.10.0)\n",
            "Requirement already satisfied: python-dateutil<3.0.0,>=2.1 in /usr/local/lib/python3.10/dist-packages (from botocore<1.35.0,>=1.34.54->boto3) (2.8.2)\n",
            "Requirement already satisfied: urllib3<2.1,>=1.25.4 in /usr/local/lib/python3.10/dist-packages (from botocore<1.35.0,>=1.34.54->boto3) (2.0.7)\n",
            "Requirement already satisfied: six>=1.5 in /usr/local/lib/python3.10/dist-packages (from python-dateutil<3.0.0,>=2.1->botocore<1.35.0,>=1.34.54->boto3) (1.16.0)\n"
          ]
        }
      ]
    },
    {
      "cell_type": "code",
      "source": [
        "def lambda_handler(event, context):\n",
        "  s3_client = get_S3_client()\n",
        "  if \"body\" in event.keys():\n",
        "    request = event[\"body\"]\n",
        "    if type(request) is not dict:\n",
        "      request = json.loads(request)\n",
        "    # check that there was some data in the body, get the values and run the function to get the result\n",
        "    if request is not None and \"data\" in request.keys():\n",
        "      # get the data from the data object\n",
        "      try:\n",
        "         data = request[\"data\"]\n",
        "         action = data[\"action\"]\n",
        "      except KeyError:\n",
        "           print(\"KeyError\")\n",
        "           return \"KeyError\"\n",
        "      # now the data has been collected, it can run the functions and set the statuscode to 200 (success)\n",
        "      if action == \"get\":\n",
        "        return_data = get_file(s3_client, 'schools.csv')\n",
        "        statuscode = 200\n",
        "      elif action == \"store\":\n",
        "        schools = data[\"schools\"]\n",
        "        save_a_file(schools, 'schools.csv')\n",
        "        return_data = \"Schools saved\"\n",
        "        statuscode = 200\n",
        "      elif action == \"delete\":\n",
        "        try:\n",
        "          school = data[\"school\"]\n",
        "          data = get_file(s3_client, 'schools.csv')\n",
        "          new_data = delete_a_school(data,school)\n",
        "          save_a_file(new_data, 'schools.csv')\n",
        "          return_data = \"School deleted\"\n",
        "        except KeyError:\n",
        "           print(\"KeyError\")\n",
        "           return \"KeyError\"\n",
        "        statuscode = 200\n",
        "      else:\n",
        "        return_data = \"Unsupported operation\"\n",
        "        statuscode = 400\n",
        "    else:\n",
        "      return_data = \"Unable to get data\"\n",
        "      statuscode = 404\n",
        "    # now it can return the result in a JSON object with some security settings in the headers\n",
        "    return {\n",
        "        'statusCode': statuscode,\n",
        "        'headers':{\n",
        "            'Content-Type' : 'application/json',\n",
        "            'Access-Control-Allow-Headers' : 'Content-Type,X-Api-Key',\n",
        "            'Access-Control-Allow-Methods' : 'POST',\n",
        "            'Access-Control-Allow-Origin':'*'\n",
        "        },\n",
        "        'body': return_data\n",
        "    }\n",
        "\n"
      ],
      "metadata": {
        "id": "HNqjac7auLWz"
      },
      "execution_count": null,
      "outputs": []
    }
  ]
}