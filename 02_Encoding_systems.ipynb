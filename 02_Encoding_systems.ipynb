{
  "nbformat": 4,
  "nbformat_minor": 0,
  "metadata": {
    "colab": {
      "provenance": [],
      "include_colab_link": true
    },
    "kernelspec": {
      "name": "python3",
      "display_name": "Python 3"
    },
    "language_info": {
      "name": "python"
    }
  },
  "cells": [
    {
      "cell_type": "markdown",
      "metadata": {
        "id": "view-in-github",
        "colab_type": "text"
      },
      "source": [
        "<a href=\"https://colab.research.google.com/github/irynadunets/Introduction_to_Python/blob/master/02_Encoding_systems.ipynb\" target=\"_parent\"><img src=\"https://colab.research.google.com/assets/colab-badge.svg\" alt=\"Open In Colab\"/></a>"
      ]
    },
    {
      "cell_type": "markdown",
      "source": [
        "# Encoding challenges inspired by https://cryptopals.com/\n",
        "---\n",
        "\n",
        "Have a go at the 5 challenges.  Each will need specific Python libraries and a basic understanding of the different encoding systems."
      ],
      "metadata": {
        "id": "95WVcP4unIP8"
      }
    },
    {
      "cell_type": "markdown",
      "source": [
        "## Challenge 1 - Hexadecimal, ASCII and base 64\n",
        "---\n",
        "\n",
        "**Topics:**\n",
        "* [Hexadecimal and numbering systems](https://learn.sparkfun.com/tutorials/hexadecimal/introduction)\n",
        "* [ASCII](https://www.ascii-code.com/articles/Beginners-Guide-to-ASCII)\n",
        "* [Base64](https://www.base64encoder.io/learn/)\n",
        "\n",
        "You can refer back to these topics as you work through the exercises below."
      ],
      "metadata": {
        "id": "vSv3HbB9ne8v"
      }
    },
    {
      "cell_type": "markdown",
      "source": [
        "### Exercise 1 - convert decimal number to a hexadecimal equivalent string\n",
        "---\n",
        "\n",
        "e.g.  \n",
        "Decimal 10 is Hexadecimal a   \n",
        "Decimal 45 is Hexadecimal 2d  \n",
        "Decimal 163 is Hexadecimal a3  \n",
        "Decimal 3482 is Hexadecimal d9a  \n",
        "\n",
        "Write a function that will return the hexadecimal number as a string (for printing)\n"
      ],
      "metadata": {
        "id": "F0fAtbFjw-7j"
      }
    },
    {
      "cell_type": "code",
      "execution_count": 16,
      "metadata": {
        "id": "TSur-LW7nE2K",
        "colab": {
          "base_uri": "https://localhost:8080/"
        },
        "outputId": "14378d1b-899e-419b-e50f-cbbbc4d87e3a"
      },
      "outputs": [
        {
          "output_type": "stream",
          "name": "stdout",
          "text": [
            "a\n",
            "2d\n",
            "a3\n",
            "d9a\n"
          ]
        }
      ],
      "source": [
        "def convert_hexadecimal(number):\n",
        "  return hex(number).lstrip(\"0x\")\n",
        "\n",
        "print(convert_hexadecimal(10))\n",
        "print(convert_hexadecimal(45))\n",
        "print(convert_hexadecimal(163))\n",
        "print(convert_hexadecimal(3482))"
      ]
    },
    {
      "cell_type": "markdown",
      "source": [
        "### Exercise 2 - convert a string into its hexadecimal ASCII values to form a new string\n",
        "---\n",
        "\n",
        "e.g. \"Hello World\" converts to \"48656c6c6f20576f726c64\""
      ],
      "metadata": {
        "id": "vJuPaMrqxOEQ"
      }
    },
    {
      "cell_type": "code",
      "source": [
        "import binascii\n",
        "def convert_hexadecimal(string):\n",
        "  hex_string =''\n",
        "  for i in range(len(string)):\n",
        "     hex_string += hex(ord(string[i])).lstrip(\"0x\")\n",
        "  return hex_string\n",
        "\n",
        "print(convert_hexadecimal(\"Hello World\"))"
      ],
      "metadata": {
        "id": "Siy9Vg0rNSKT",
        "colab": {
          "base_uri": "https://localhost:8080/"
        },
        "outputId": "0163fbee-86b9-4c25-8e9e-74bc395695fc"
      },
      "execution_count": 19,
      "outputs": [
        {
          "output_type": "stream",
          "name": "stdout",
          "text": [
            "48656c6c6f20576f726c64\n"
          ]
        }
      ]
    },
    {
      "cell_type": "markdown",
      "source": [
        "### Exercise 3 - convert a hexadecimal digit string to a four digit binary string\n",
        "---\n",
        "e.g.   \n",
        "Hexadecimal string \"4\" would convert to binary string \"0100\"   \n",
        "Hexadecimal string \"E\" would convert to binary string \"1110\"  \n",
        "Hexadecimal string \"0\" would convert to binary string \"0000\"   "
      ],
      "metadata": {
        "id": "JB1D1k1zdcii"
      }
    },
    {
      "cell_type": "code",
      "source": [
        "import binascii\n",
        "def convert_hexadecimal(string):\n",
        "  bin_string =''\n",
        "  for i in range(len(string)):\n",
        "     bin_string += bin(int(string[i],16)).lstrip(\"0b\").zfill(4)\n",
        "  return bin_string\n",
        "\n",
        "print(convert_hexadecimal(\"4\"))\n",
        "print(convert_hexadecimal(\"E\"))\n",
        "print(convert_hexadecimal(\"0\"))"
      ],
      "metadata": {
        "id": "fFFHeVTH49so",
        "colab": {
          "base_uri": "https://localhost:8080/"
        },
        "outputId": "d21546f8-cc91-4194-d8b6-9b7d016d6705"
      },
      "execution_count": 29,
      "outputs": [
        {
          "output_type": "stream",
          "name": "stdout",
          "text": [
            "0100\n",
            "1110\n",
            "0000\n"
          ]
        }
      ]
    },
    {
      "cell_type": "markdown",
      "source": [
        "### Exercise 4 - encode an image (binary format) in Base64 format\n",
        "---\n",
        "Python provides a library `base64` for encoding binary data as text for secure transmission over networks and the internet.\n",
        "\n",
        "The process for preparing an image file for transmission is:\n",
        "\n",
        "*   import the base64 library\n",
        "*   uplodad and open the image file as bytes\n",
        "*   read and ecnode the file contents (binary) into a base64 string\n",
        "*   print the first 128 characters and the last 128 characters of the base64 string\n",
        "\n"
      ],
      "metadata": {
        "id": "zMcevZaeeJkF"
      }
    },
    {
      "cell_type": "code",
      "source": [
        "import base64\n",
        "import requests\n",
        "\n",
        "\n",
        "def encode_image_base64(url):\n",
        "    base_64_string = base64.b64encode(requests.get(url).content)\n",
        "    print(base_64_string[0:128] + base_64_string[-128:])\n",
        "\n",
        "url = 'http://www.w3schools.com/css/trolltunga.jpg'\n",
        "\n",
        "encode_image_base64(url)"
      ],
      "metadata": {
        "id": "8ev5F_P-46_0",
        "colab": {
          "base_uri": "https://localhost:8080/"
        },
        "outputId": "288b2641-f3e3-4979-e7fd-8e4eb26f51f6"
      },
      "execution_count": 11,
      "outputs": [
        {
          "output_type": "stream",
          "name": "stdout",
          "text": [
            "b'/9j/4AAQSkZJRgABAQAAAQABAAD/2wBDAAYEBQYFBAYGBQYHBwYIChAKCgkJChQODwwQFxQYGBcUFhYaHSUfGhsjHBYWICwgIyYnKSopGR8tMC0oMCUoKSj/2wBDAQcHRcxYityrmxRaeonWkjyy6rkauLZ6R2QMH8RO2LEHyj9rMqlXbNFGtxWlqjjmIWHiPdQb2y0pkRfvAFazDVcJZM9x1VyfRmv0bqVbAoIJCJoI+osS13BDqhH9KIJ//9k='\n"
          ]
        }
      ]
    },
    {
      "cell_type": "markdown",
      "source": [
        "### Exdercise 5 -- challenge -- encode a zip file into Base64 format\n",
        "---\n",
        "Create a small zip file, upload and open it, convert to base64 format.  \n",
        "Print the first 128 characters and the last 128 characters of the bas64 string.  \n",
        "Decode back to the original file.  \n",
        "Try to unzip to get the original contents.\n",
        "\n"
      ],
      "metadata": {
        "id": "iBBVTLY74_r_"
      }
    },
    {
      "cell_type": "code",
      "source": [
        "import zipfile\n",
        "from zipfile import ZipFile\n",
        "import os\n",
        "import base64\n",
        "\n",
        "def stringToBase64(s):\n",
        "    return base64.b64encode(s.encode('utf-8'))\n",
        "\n",
        "def base64ToString(b):\n",
        "    return base64.b64decode(b).decode('utf-8')\n",
        "\n",
        "def encode_zip():\n",
        "\n",
        "  zip = zipfile.ZipFile(\"example.zip\", \"w\", zipfile.ZIP_DEFLATED)\n",
        "\n",
        "  with open('test.txt', 'w') as f:\n",
        "\n",
        "    base_64_string = stringToBase64('Python is a general-purpose, versatile and popular programming language. It is great as a first language because it is concise and easy to read, and it is also a good language to have in any programmer stack as it can be used for everything from web development to software development and scientific applications.')\n",
        "    print(base_64_string[0:128] + base_64_string[-128:])\n",
        "\n",
        "    base64_str = base64ToString(base_64_string)\n",
        "    f.write(base64_str)\n",
        "\n",
        "  zip.write('test.txt')\n",
        "  zip.close()\n",
        "\n",
        "  with zipfile.ZipFile('example.zip') as z:\n",
        "    for filename in z.namelist():\n",
        "        if not os.path.isdir(filename):\n",
        "            with z.open(filename) as f:\n",
        "                for line in f:\n",
        "                    print(line)\n",
        "\n",
        "encode_zip()"
      ],
      "metadata": {
        "id": "MJfUnAKz5VOx",
        "colab": {
          "base_uri": "https://localhost:8080/"
        },
        "outputId": "8da2e887-f69e-43f1-930e-fee98899eb6c"
      },
      "execution_count": 39,
      "outputs": [
        {
          "output_type": "stream",
          "name": "stdout",
          "text": [
            "b'UHl0aG9uIGlzIGEgZ2VuZXJhbC1wdXJwb3NlLCB2ZXJzYXRpbGUgYW5kIHBvcHVsYXIgcHJvZ3JhbW1pbmcgbGFuZ3VhZ2UuIEl0IGlzIGdyZWF0IGFzIGEgZmlyc3QgZSB1c2VkIGZvciBldmVyeXRoaW5nIGZyb20gd2ViIGRldmVsb3BtZW50IHRvIHNvZnR3YXJlIGRldmVsb3BtZW50IGFuZCBzY2llbnRpZmljIGFwcGxpY2F0aW9ucy4='\n",
            "b'Python is a general-purpose, versatile and popular programming language. It is great as a first language because it is concise and easy to read, and it is also a good language to have in any programmer stack as it can be used for everything from web development to software development and scientific applications.'\n"
          ]
        }
      ]
    }
  ]
}