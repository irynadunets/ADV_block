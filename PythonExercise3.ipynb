{
  "nbformat": 4,
  "nbformat_minor": 0,
  "metadata": {
    "colab": {
      "provenance": [],
      "include_colab_link": true
    },
    "kernelspec": {
      "name": "python3",
      "display_name": "Python 3"
    },
    "language_info": {
      "name": "python"
    }
  },
  "cells": [
    {
      "cell_type": "markdown",
      "metadata": {
        "id": "view-in-github",
        "colab_type": "text"
      },
      "source": [
        "<a href=\"https://colab.research.google.com/github/irynadunets/ADV_block/blob/master/PythonExercise3.ipynb\" target=\"_parent\"><img src=\"https://colab.research.google.com/assets/colab-badge.svg\" alt=\"Open In Colab\"/></a>"
      ]
    },
    {
      "cell_type": "markdown",
      "source": [
        "1A. Write a Python program to sum all the items in a list."
      ],
      "metadata": {
        "id": "06HPv0TNKzcW"
      }
    },
    {
      "cell_type": "code",
      "execution_count": 46,
      "metadata": {
        "id": "sHKUtK2dKukc",
        "outputId": "fe3d0720-6445-4aaa-cc54-0dd109174177",
        "colab": {
          "base_uri": "https://localhost:8080/"
        }
      },
      "outputs": [
        {
          "output_type": "stream",
          "name": "stdout",
          "text": [
            "33\n"
          ]
        }
      ],
      "source": [
        "#Write program here\n",
        "list = [3,4,7,2,8,9]\n",
        "print(sum(list))"
      ]
    },
    {
      "cell_type": "markdown",
      "source": [
        "1B. Write a Python program to count the number of strings where the string length is 2 or more and the first and last character are same from a given list of strings."
      ],
      "metadata": {
        "id": "mnY0V50-K0iF"
      }
    },
    {
      "cell_type": "code",
      "source": [
        "#Write program here\n",
        "list = ['ffg','i','w','abba','l','gh','maam']\n",
        "count = 0\n",
        "for x in list:\n",
        "  if len(x) > 1 and x[0] == x[-1]:\n",
        "    count = count + 1\n",
        "print(count)"
      ],
      "metadata": {
        "id": "Q-N0EiDzK0p0",
        "outputId": "485b0a20-a99d-4469-91c0-97b52a5b5277",
        "colab": {
          "base_uri": "https://localhost:8080/"
        }
      },
      "execution_count": 47,
      "outputs": [
        {
          "output_type": "stream",
          "name": "stdout",
          "text": [
            "2\n"
          ]
        }
      ]
    },
    {
      "cell_type": "markdown",
      "source": [
        "1C. Write a Python program to get a list, sorted in increasing order by the last element in each tuple from a given list of non-empty tuples."
      ],
      "metadata": {
        "id": "NEataweqK0xV"
      }
    },
    {
      "cell_type": "code",
      "source": [
        "#Write program here\n",
        "tuples_list = [(1, 5), (3, 2), (8, 10), (6, 4)]\n",
        "print(sorted(tuples_list, key=lambda x: (x[-1])))\n",
        ""
      ],
      "metadata": {
        "id": "CBw_nFtnK032",
        "outputId": "591c2836-5a25-4742-dbc2-8060c741553f",
        "colab": {
          "base_uri": "https://localhost:8080/"
        }
      },
      "execution_count": 53,
      "outputs": [
        {
          "output_type": "stream",
          "name": "stdout",
          "text": [
            "[(3, 2), (6, 4), (1, 5), (8, 10)]\n"
          ]
        }
      ]
    },
    {
      "cell_type": "markdown",
      "source": [
        "2A. Write a Python program to remove duplicates from a list."
      ],
      "metadata": {
        "id": "gCcuirvhK0-t"
      }
    },
    {
      "cell_type": "code",
      "source": [
        "#Write program here\n",
        "list1 = [1,4,7,9,2,1,4]\n",
        "print(set(list1))\n",
        "\n"
      ],
      "metadata": {
        "id": "Iqt5oNJwK1DV",
        "outputId": "7ec4aadd-15a4-4129-b9e0-d83bd5c77712",
        "colab": {
          "base_uri": "https://localhost:8080/"
        }
      },
      "execution_count": 57,
      "outputs": [
        {
          "output_type": "stream",
          "name": "stdout",
          "text": [
            "{1, 2, 4, 7, 9}\n"
          ]
        }
      ]
    },
    {
      "cell_type": "markdown",
      "source": [
        "2B. Write a Python function that takes two lists and returns True if they have at least one common member."
      ],
      "metadata": {
        "id": "icLILXYUK1IF"
      }
    },
    {
      "cell_type": "code",
      "source": [
        "#Write program here\n",
        "list1 = [1,7,8,9,2]\n",
        "list2 = [1,7,8,4,3]\n",
        "set(list1) != set(list2)"
      ],
      "metadata": {
        "id": "HhDboPZIK1MZ",
        "outputId": "fe9a16b3-05e7-4b1f-ccfe-3be4b8ba3a8e",
        "colab": {
          "base_uri": "https://localhost:8080/"
        }
      },
      "execution_count": 60,
      "outputs": [
        {
          "output_type": "execute_result",
          "data": {
            "text/plain": [
              "True"
            ]
          },
          "metadata": {},
          "execution_count": 60
        }
      ]
    },
    {
      "cell_type": "markdown",
      "source": [
        "2C. Write a Python program to print the numbers of a specified list after removing even numbers from it."
      ],
      "metadata": {
        "id": "22atu-SmK1Rm"
      }
    },
    {
      "cell_type": "code",
      "source": [
        "#Write program here\n",
        "list1 = [1,7,8,9,2]\n",
        "for x in list1:\n",
        "  if x % 2 == 0:\n",
        "     list1.remove(x)\n",
        "print(list1)"
      ],
      "metadata": {
        "id": "8Xnu2OBvK1V-",
        "outputId": "a6c31a98-924e-4a15-a82f-78cf7671270f",
        "colab": {
          "base_uri": "https://localhost:8080/"
        }
      },
      "execution_count": 62,
      "outputs": [
        {
          "output_type": "stream",
          "name": "stdout",
          "text": [
            "[1, 7, 9]\n"
          ]
        }
      ]
    },
    {
      "cell_type": "markdown",
      "source": [
        "3A. Write a Python program to generate and print a list of first and last 5 elements where the values are square of numbers between 1 and 30 (both included)."
      ],
      "metadata": {
        "id": "YoKsC5HWK1ae"
      }
    },
    {
      "cell_type": "code",
      "source": [
        "#Write program here\n",
        "\n",
        "list1 = [x*x for x in range(1, 5)]\n",
        "list2 = [x*x for x in range(26, 30)]\n",
        "print(list1 + list2)\n"
      ],
      "metadata": {
        "id": "l5rPnietK1e4",
        "colab": {
          "base_uri": "https://localhost:8080/"
        },
        "outputId": "05b27d7d-b446-441c-ac2f-2468d70753c1"
      },
      "execution_count": 66,
      "outputs": [
        {
          "output_type": "stream",
          "name": "stdout",
          "text": [
            "[1, 4, 9, 16, 676, 729, 784, 841]\n"
          ]
        }
      ]
    },
    {
      "cell_type": "markdown",
      "source": [
        "3B. Write a Python program to get the difference between the two lists."
      ],
      "metadata": {
        "id": "72sVaoAyK1jG"
      }
    },
    {
      "cell_type": "code",
      "source": [
        "#Write program here\n",
        "list1 = [1,7,8,9,2]\n",
        "list2 = [1,7,8,4,3]\n",
        "(set(list1) - set(list2)).union(set(list2) - set(list1))\n"
      ],
      "metadata": {
        "id": "RsqiGkbNK1oP",
        "outputId": "3eb041ca-964c-4d9b-c3e7-83e8c0ccd295",
        "colab": {
          "base_uri": "https://localhost:8080/"
        }
      },
      "execution_count": 45,
      "outputs": [
        {
          "output_type": "execute_result",
          "data": {
            "text/plain": [
              "{2, 3, 4, 9}"
            ]
          },
          "metadata": {},
          "execution_count": 45
        }
      ]
    },
    {
      "cell_type": "markdown",
      "source": [
        "3C. Write a Python program to convert a list of characters into a string."
      ],
      "metadata": {
        "id": "cwb0kd3sK1vt"
      }
    },
    {
      "cell_type": "code",
      "source": [
        "#Write program here\n",
        "list = ['a', 'b', 'c', 'd']\n",
        "string = ''.join(list)\n",
        "print(string)"
      ],
      "metadata": {
        "id": "9oetbMLdK11N",
        "outputId": "646acbe9-3567-406e-9255-a678140f6015",
        "colab": {
          "base_uri": "https://localhost:8080/"
        }
      },
      "execution_count": 27,
      "outputs": [
        {
          "output_type": "stream",
          "name": "stdout",
          "text": [
            "abcd\n"
          ]
        }
      ]
    },
    {
      "cell_type": "markdown",
      "source": [
        "4A. Write a Python program to select an item randomly from a list."
      ],
      "metadata": {
        "id": "pRBFvYEJK17O"
      }
    },
    {
      "cell_type": "code",
      "source": [
        "#Write program here\n",
        "from random import randint\n",
        "\n",
        "list = [19,12,31,14,5]\n",
        "\n",
        "print(list[randint(0, len(list) - 1 )])"
      ],
      "metadata": {
        "id": "Z3mdz8x5K1_s",
        "outputId": "535ef97b-4862-4962-d2da-206d241db7b3",
        "colab": {
          "base_uri": "https://localhost:8080/"
        }
      },
      "execution_count": 24,
      "outputs": [
        {
          "output_type": "stream",
          "name": "stdout",
          "text": [
            "31\n"
          ]
        }
      ]
    },
    {
      "cell_type": "markdown",
      "source": [
        "4B.Write a Python program to find the second largest number in a list."
      ],
      "metadata": {
        "id": "KZdXkW5MPjot"
      }
    },
    {
      "cell_type": "code",
      "source": [
        "#Write program here\n",
        "list = [19,12,31,14,5]\n",
        "sort = sorted(list, reverse = True)\n",
        "print(sort[1])\n"
      ],
      "metadata": {
        "id": "4l3nkCRUK2KX",
        "outputId": "110bcc0d-a333-42c5-c255-8d0f34fc6cab",
        "colab": {
          "base_uri": "https://localhost:8080/"
        }
      },
      "execution_count": 11,
      "outputs": [
        {
          "output_type": "stream",
          "name": "stdout",
          "text": [
            "19\n"
          ]
        }
      ]
    },
    {
      "cell_type": "markdown",
      "source": [
        "5A. Write a Python program to count the number of elements in a list within a specified range."
      ],
      "metadata": {
        "id": "gUKwS8kEPkM6"
      }
    },
    {
      "cell_type": "code",
      "source": [
        "#Write program here\n",
        "list = [1,2,3,4,5]\n",
        "total = 0\n",
        "for x in range(1,4):\n",
        "  total = total + x\n",
        "print(total)"
      ],
      "metadata": {
        "id": "DAnLmn_RPySc",
        "outputId": "cb3a319c-05d7-4544-a81a-854524ea4b93",
        "colab": {
          "base_uri": "https://localhost:8080/"
        }
      },
      "execution_count": 8,
      "outputs": [
        {
          "output_type": "stream",
          "name": "stdout",
          "text": [
            "6\n"
          ]
        }
      ]
    },
    {
      "cell_type": "markdown",
      "source": [
        "5B. Write a Python program to split a list into different variables."
      ],
      "metadata": {
        "id": "3bOmmaEbK2E8"
      }
    },
    {
      "cell_type": "code",
      "source": [
        "#Write program here\n",
        "list = [\"apple\", \"banana\", \"cherry\"]\n",
        "x,y,z = list\n",
        "print(x)"
      ],
      "metadata": {
        "id": "lBYfMtFnRBsz",
        "outputId": "da16c414-ba85-4b42-859c-3f4d5326dc7d",
        "colab": {
          "base_uri": "https://localhost:8080/"
        }
      },
      "execution_count": 7,
      "outputs": [
        {
          "output_type": "stream",
          "name": "stdout",
          "text": [
            "apple\n"
          ]
        }
      ]
    },
    {
      "cell_type": "markdown",
      "source": [
        "6A. Merge the following dictionaries into one"
      ],
      "metadata": {
        "id": "hH16U6KcRARD"
      }
    },
    {
      "cell_type": "code",
      "source": [
        "from itertools import chain\n",
        "\n",
        "dict1 = {'Ten': 10, 'Twenty': 20, 'Thirty': 30}\n",
        "dict2 = {'Thirty': 30, 'Fourty': 40, 'Fifty': 50}\n",
        "\n",
        "dictionary = dict(chain(dict1.items(),dict2.items()))\n",
        "print(dictionary)"
      ],
      "metadata": {
        "id": "z_ce9ZOHRAYr",
        "outputId": "f15644aa-eaae-4b92-b537-4421f7f162a4",
        "colab": {
          "base_uri": "https://localhost:8080/"
        }
      },
      "execution_count": 6,
      "outputs": [
        {
          "output_type": "stream",
          "name": "stdout",
          "text": [
            "{'Ten': 10, 'Twenty': 20, 'Thirty': 30, 'Fourty': 40, 'Fifty': 50}\n"
          ]
        }
      ]
    },
    {
      "cell_type": "markdown",
      "source": [
        "6B. Delete the set of keys from the following python dictionary"
      ],
      "metadata": {
        "id": "UOCvJRpvRAfq"
      }
    },
    {
      "cell_type": "code",
      "source": [
        "sampleDict = {\n",
        " \"name\": \"Kelly\",\n",
        " \"age\":25,\n",
        " \"salary\": 8000,\n",
        " \"city\": \"New york\"\n",
        "}\n",
        "\n",
        "\n",
        "keysToRemove = [\"name\", \"salary\"]\n",
        "\n",
        "for x in keysToRemove:\n",
        "  del sampleDict[x]\n",
        "\n",
        "print(sampleDict)\n",
        "\n"
      ],
      "metadata": {
        "id": "xJk1rTxKRAmV",
        "outputId": "0432e890-26d4-4a23-94b9-3253e0fe18ec",
        "colab": {
          "base_uri": "https://localhost:8080/"
        }
      },
      "execution_count": 2,
      "outputs": [
        {
          "output_type": "stream",
          "name": "stdout",
          "text": [
            "{'age': 25, 'city': 'New york'}\n"
          ]
        }
      ]
    }
  ]
}