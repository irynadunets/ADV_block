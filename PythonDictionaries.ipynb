{
  "cells": [
    {
      "cell_type": "markdown",
      "metadata": {
        "id": "Vvcpt-18AqVE"
      },
      "source": [
        "<a href=\"https://colab.research.google.com/github/StefanMeyer7/Python-Fundamentals/blob/main/PythonDictionaries.ipynb\" target=\"_parent\"><img src=\"https://colab.research.google.com/assets/colab-badge.svg\" alt=\"Open In Colab\"/></a>"
      ]
    },
    {
      "cell_type": "markdown",
      "metadata": {
        "id": "ajVrvblzd9wB"
      },
      "source": [
        "# Dictionaries\n",
        "\n",
        "---\n",
        "\n",
        "A **dictionary** is a collection of dissimilar data stored together in one *record*. Each item of data has a  (or key) that describes its paired value.  \n",
        "\n",
        "Create a dictionary object by declaring the set of keys and values, e.g.:\n",
        "\n",
        "```\n",
        "   transport = {\n",
        "       \"type\":\"bus\",\n",
        "       \"numPassengers\":72,\n",
        "       \"colour\":\"blue\",\n",
        "       \"fuel\":\"diesel\"\n",
        "   }\n",
        "```\n",
        "\n",
        "To access a value in a dictionary, use its key:  \n",
        "\n",
        "```\n",
        "transport[\"type\"] = \"coach\"\n",
        "transport_type = transport[\"type\"]\n",
        "transport_colour = transport[\"colour\"]\n",
        "transport[\"fuel\"] = petrol\n",
        "```\n",
        "\n",
        "To add a new key/value pair to a dictionary, simply assign a value to a new key:  \n",
        "```\n",
        "transport[\"seats\"] = 54\n",
        "```\n",
        "\n",
        "The transport dictionary will now look like this:  \n",
        "```\n",
        "   transport = {\n",
        "       \"type\":\"bus\",\n",
        "       \"numPassengers\":72,\n",
        "       \"colour\":\"blue\",\n",
        "       \"fuel\":\"diesel\",\n",
        "       \"seats\":54\n",
        "   }\n",
        "```\n",
        "\n"
      ]
    },
    {
      "cell_type": "markdown",
      "metadata": {
        "id": "0twREgj8d-8E"
      },
      "source": [
        "---\n",
        "### Exercise 1 - print dictionary\n",
        "\n",
        "Write a function which will:  \n",
        "\n",
        "*  create an empty dictionary for a person (name, age and postcode, with values \"\", 0 and \"\")\n",
        "*  ask the user for name, age and postcode and assign the values to the correct keys in the dictionary  \n",
        "*  print the dictionary\n",
        "\n",
        "Test input:  \n",
        "Jack Jones  \n",
        "16  \n",
        "AB5 3DF  \n",
        "\n",
        "Expected output:  \n",
        "```{'name':'Jack Jones', 'age':16, 'postcode':'AB5 3DF'}```"
      ]
    },
    {
      "cell_type": "code",
      "execution_count": 11,
      "metadata": {
        "id": "xxdFsAVFeAaa",
        "outputId": "3fc10277-db6d-4ca9-86b8-77bb3224f4d1",
        "colab": {
          "base_uri": "https://localhost:8080/"
        }
      },
      "outputs": [
        {
          "output_type": "stream",
          "name": "stdout",
          "text": [
            "Input name Ben\n",
            "Input age 23\n",
            "Input postcode ML5 9HU\n",
            "{'name': 'Ben', 'age': 23, 'postcode': '', 'poscode': 'ML5 9HU'}\n"
          ]
        }
      ],
      "source": [
        "def print_dictionary():\n",
        "  person = {\n",
        "      'name':'',\n",
        "      'age':0,\n",
        "      'postcode':''\n",
        "  }\n",
        "  person['name'] = input('Input name ' )\n",
        "  person['age'] = int(input('Input age '))\n",
        "  person['poscode'] = input('Input postcode ')\n",
        "  print(person)\n",
        "\n",
        "print_dictionary()\n"
      ]
    },
    {
      "cell_type": "markdown",
      "metadata": {
        "id": "s2ovh9vReApo"
      },
      "source": [
        "---\n",
        "### Exercise 2 - create a dictionary\n",
        "\n",
        "Write a function that will create two dictionaries,without values:  \n",
        "\n",
        "1.  person (with keys firstname, surname, birthdate, postcode)  \n",
        "2.  car (with key/value pairs as follows:  make - Vauxhall, model - Corsa, engineSize - 1199, fuelType - unleaded, num_doors - 4)  \n",
        "\n",
        "*   ask the user to enter the values for the person dictionary  \n",
        "*   print, on one line, the person's name from the person dictionary and the make of the car from the car dictionary.\n",
        "\n",
        "Test input:  \n",
        "Jack  \n",
        "Jones  \n",
        "2005/02/02    \n",
        "AB5 3DF  \n",
        "\n",
        "Expected output:  \n",
        "Jack Jones Vauxhall"
      ]
    },
    {
      "cell_type": "code",
      "execution_count": 14,
      "metadata": {
        "id": "zwVtULVkeB5F",
        "outputId": "af098e1b-a7f9-4513-e84e-191d4f5f97e1",
        "colab": {
          "base_uri": "https://localhost:8080/"
        }
      },
      "outputs": [
        {
          "output_type": "stream",
          "name": "stdout",
          "text": [
            "Input name Anna\n",
            "Input name Bert\n",
            "Input birthday 20 April 2020\n",
            "Input postcode ML1 7HY\n",
            "Anna Bert Vauxhall\n"
          ]
        }
      ],
      "source": [
        "def create_dictionary():\n",
        "  person = {\n",
        "      'firstname':'',\n",
        "      'surname':'',\n",
        "      'birthdate':0,\n",
        "      'postcode':''\n",
        "  }\n",
        "  car = {\n",
        "      'make':'Vauxhall',\n",
        "      'model':'Corsa',\n",
        "      'engineSize':1199,\n",
        "      'fuelType':'unleaded',\n",
        "      'num_doors':4\n",
        "  }\n",
        "  person['firstname'] = input('Input name ' )\n",
        "  person['surname'] = input('Input surname ' )\n",
        "  person['birthdate'] = input('Input birthday ')\n",
        "  person['poscode'] = input('Input postcode ')\n",
        "  print(person['firstname'], person['surname'], car['make'])\n",
        "\n",
        "create_dictionary()\n",
        "\n"
      ]
    },
    {
      "cell_type": "markdown",
      "metadata": {
        "id": "Juu-ivg0eDS5"
      },
      "source": [
        "---\n",
        "### Exercise 3 - check dictionary values\n",
        "\n",
        "Write a new function which will:\n",
        "\n",
        "*  set up the same two dictionaries as in Exercise 2  \n",
        "*  ask the user to enter the details to complete the person record  \n",
        "*  calculate the person's age  \n",
        "*  if the person is under 17 then print a message to say that they can't buy a car as they are too young to drive\n",
        "*  else if the person is under 25 then print a message to say that an engine size under 1200 is recommended  \n",
        "*  ask the user to enter the make of car that the person is looking for  \n",
        "*  if the user enters the same make as that stored in the car record, then print a message to say that you have one car of that make in stock and print all the details of the car that you have the record for\n",
        "*  else (if the user enters any other car make) then print a message to say sorry that you don't have any cars of that make in stock\n",
        "*  print a message to say that the user can get more details for stockist in the <user's postcode> area if they call 01234567890\n",
        "*  print a message to say \"Thank you <user's name> for using our site\"  \n",
        "\n",
        "Test input:  \n",
        "Jack  \n",
        "Jones  \n",
        "2005/02/02  \n",
        "AB5 3DF  \n",
        "Vauxhall  \n",
        "\n",
        "Expected output:  \n",
        "You are too young to drive\n",
        "\n",
        "Test input:  \n",
        "John  \n",
        "Jones  \n",
        "2003/02/02  \n",
        "AB5 3DF  \n",
        "Vauxhall\n",
        "\n",
        "Expected output:  \n",
        "An engine size under 1200 is recommended  \n",
        "We have one Vauxhall in stock, details:  \n",
        "Make - Vauxhall    \n",
        "Model - Corsa    \n",
        "Engine size - 1199  \n",
        "Fuel type - unleaded   \n",
        "Number of doors - 4  \n",
        "You can get more details of stockists near AB5 3DF on 01234567890  \n",
        "Thank you John Jones for using our site.     \n",
        "\n",
        "Test input:  \n",
        "John  \n",
        "Jones  \n",
        "2003/02/02  \n",
        "AB5 3DF  \n",
        "Ford  \n",
        "\n",
        "Expected output:  \n",
        "An engine size under 1200 is recommended  \n",
        "Sorry, we don't have any of that make in stock  \n"
      ]
    },
    {
      "cell_type": "code",
      "execution_count": 31,
      "metadata": {
        "id": "IiAIQVvWeDsk",
        "outputId": "74e10053-d035-49ef-956a-6cb8bdddd7ce",
        "colab": {
          "base_uri": "https://localhost:8080/"
        }
      },
      "outputs": [
        {
          "output_type": "stream",
          "name": "stdout",
          "text": [
            "Input name: Ben\n",
            "Input surname: Torn\n",
            "Input birthday: 2001/07/09\n",
            "Input postcode: ML1 6HJ\n",
            "An engine size under 1200 is recommended\n",
            "Input make car you want to buy: Lada\n",
            "There any cars of that make in stock\n",
            "User can get more details for stockist in the ML1 6HJ area if they call 01234567890\n",
            "Thank you Ben for using our site\n"
          ]
        }
      ],
      "source": [
        "from datetime import date\n",
        "\n",
        "def check_dictionary_values():\n",
        "  person = {\n",
        "      'firstname':'',\n",
        "      'surname':'',\n",
        "      'birthdate':0,\n",
        "      'postcode':''\n",
        "  }\n",
        "  car = {\n",
        "      'make':'Vauxhall',\n",
        "      'model':'Corsa',\n",
        "      'engineSize':1199,\n",
        "      'fuelType':'unleaded',\n",
        "      'num_doors':4\n",
        "  }\n",
        "  person['firstname'] = input('Input name: ' )\n",
        "  person['surname'] = input('Input surname: ' )\n",
        "  person['birthdate'] = input('Input birthday: ')\n",
        "  person['poscode'] = input('Input postcode: ')\n",
        "\n",
        "  date_now = int(date.today().strftime('%Y/%m/%d').replace('/', ''))\n",
        "  date_birth = int(person['birthdate'].replace('/', ''))\n",
        "  difference = date_now - date_birth\n",
        "\n",
        "  if difference < 170000:\n",
        "    print('You can not buy a car as you are too young to drive')\n",
        "  elif difference > 170000 and difference < 250000:\n",
        "    print('An engine size under 1200 is recommended')\n",
        "    make = input('Input make car you want to buy: ')\n",
        "    if(make == car['make']):\n",
        "      print('One car of that make in stock')\n",
        "      print(car)\n",
        "    else:\n",
        "      print('There any cars of that make in stock')\n",
        "      print('User can get more details for stockist in the', person['poscode'] ,'area if they call 01234567890')\n",
        "\n",
        "  print('Thank you', person['firstname'], 'for using our site')\n",
        "\n",
        "check_dictionary_values()"
      ]
    },
    {
      "cell_type": "markdown",
      "metadata": {
        "id": "ctA2qPE3eFRB"
      },
      "source": [
        "---\n",
        "### Exercise 4 - print keys and values\n",
        "\n",
        "Two dictionaries have been created below.  You can print a list of the dictionary's keys using `dictionary_name.keys()` and the values using `dictionary_name.values()`\n",
        "\n",
        "Write a function which will accept a dictionary as a parameter and will:  \n",
        "*  print the dictionary keys as a list   \n",
        "*  print the dictionary values as a list  \n",
        "\n",
        "*Hint*:  you will need to cast the keys as a list (`list(dictionary_name.keys()`)  and do the same for the values.\n",
        "\n",
        "**Expected Output**\n",
        "\n",
        "Input: English  \n",
        "Output:\n",
        "['Andy', 'Angela']  \n",
        "[95, 53]  \n",
        "\n",
        "Input: Maths  \n",
        "Output:  \n",
        "['Andy', 'Angela']  \n",
        "[58, 72]\n",
        "\n",
        "\n",
        "\n"
      ]
    },
    {
      "cell_type": "code",
      "execution_count": 34,
      "metadata": {
        "id": "MJtMND82eGwt",
        "outputId": "a6f233f5-2464-45f2-fc4b-412bc88fe56c",
        "colab": {
          "base_uri": "https://localhost:8080/"
        }
      },
      "outputs": [
        {
          "output_type": "stream",
          "name": "stdout",
          "text": [
            "dict_keys(['Andy', 'Angela'])\n",
            "dict_values([95, 53])\n",
            "dict_keys(['Andy', 'Angela'])\n",
            "dict_values([58, 72])\n"
          ]
        }
      ],
      "source": [
        "def display_dictionary(scores):\n",
        "  #  add your code below this line\n",
        "  print(scores.keys())\n",
        "  print(scores.values())\n",
        "\n",
        "english_scores = {'Andy': 95, 'Angela': 53}\n",
        "maths_scores = {'Andy': 58, 'Angela': 72}\n",
        "display_dictionary(english_scores)\n",
        "display_dictionary(maths_scores)"
      ]
    },
    {
      "cell_type": "markdown",
      "metadata": {
        "id": "l21xWlAYeIbD"
      },
      "source": [
        "---\n",
        "### Exercise 5 - add field\n",
        "\n",
        "Write a function which will:\n",
        "\n",
        "*  create a new dictionary called **science_scores** with values of 0 for both Andy and Angela\n",
        "*  update Andy's score for science to 73 and Angela's score to 73   \n",
        "*  create a new key/value pair by adding another learner to the `science_scores`  dictionary (George has a score of 55)    \n",
        "*  print the `science_scores` dictionary to check results  \n",
        "\n",
        "Expected Output\n",
        "\n",
        "{'Andy': 73, 'Angela': 73, 'George': 55}"
      ]
    },
    {
      "cell_type": "code",
      "execution_count": 37,
      "metadata": {
        "id": "yUIyc-AleI1j",
        "outputId": "8ac2461c-98d8-4956-fd1a-115b5c09c9bc",
        "colab": {
          "base_uri": "https://localhost:8080/"
        }
      },
      "outputs": [
        {
          "output_type": "stream",
          "name": "stdout",
          "text": [
            "{'Andy': 73, 'Angela': 73, 'George': 55}\n"
          ]
        }
      ],
      "source": [
        "def add_field():\n",
        "  science_scores = {'Andy': 0, 'Angela': 0}\n",
        "  science_scores['Andy'] = 73\n",
        "  science_scores['Angela'] = 73\n",
        "  science_scores['George'] = 55\n",
        "  print(science_scores)\n",
        "\n",
        "add_field()\n",
        ""
      ]
    },
    {
      "cell_type": "markdown",
      "metadata": {
        "id": "WhkZtLjDeJ5D"
      },
      "source": [
        "---\n",
        "### Exercise 6 - loop through keys/value pairs\n",
        "\n",
        "Write a function which will use a *for* loop to print the each key/value pair in the science dictionary (recreate this dictionary in this function)\n",
        "\n",
        "*(Hint: you can iterate through the key/value pairs in the dictionary in the same way as you iterate through a loop (e.g. for record in dictionary) and print the record (which is the key) and its value)*\n",
        "\n",
        "Expected output:  \n",
        "\n",
        "Angela 72  \n",
        "Andy 72  \n",
        "George 55  "
      ]
    },
    {
      "cell_type": "code",
      "execution_count": 41,
      "metadata": {
        "id": "AhW3GnQheKNW",
        "outputId": "dba51b7d-bc37-4a12-fa1f-e6d9cecf3186",
        "colab": {
          "base_uri": "https://localhost:8080/"
        }
      },
      "outputs": [
        {
          "output_type": "stream",
          "name": "stdout",
          "text": [
            "Andy 73\n",
            "Angela 73\n",
            "George 55\n"
          ]
        }
      ],
      "source": [
        "def add_field():\n",
        "  science_scores = {'Andy': 0, 'Angela': 0}\n",
        "  science_scores['Andy'] = 73\n",
        "  science_scores['Angela'] = 73\n",
        "  science_scores['George'] = 55\n",
        "  for k,v in science_scores.items():\n",
        "    print(k, v)\n",
        "\n",
        "add_field()"
      ]
    },
    {
      "cell_type": "markdown",
      "metadata": {
        "id": "RfJnjBoTeLeU"
      },
      "source": [
        "---\n",
        "### Exercise 7 - generate new dictionary  \n",
        "\n",
        "Write a functions which will:\n",
        "*  create a new dictionary where the keys are numbers between 1 and 15 (both included) and the values are square of keys\n",
        "*  print the dictionary\n",
        "\n",
        "Expected output:  \n",
        "{1: 1, 2: 4, 3: 9, 4: 16, 5: 25, 6: 36, 7: 49, 8: 64, 9: 81, 10: 100, 11: 121, 12: 144, 13: 169, 14: 196, 15: 225}"
      ]
    },
    {
      "cell_type": "code",
      "execution_count": 43,
      "metadata": {
        "id": "Zn-pa0rXeLvk",
        "outputId": "4e422d10-d8d7-4c74-9c68-d31076114fa4",
        "colab": {
          "base_uri": "https://localhost:8080/"
        }
      },
      "outputs": [
        {
          "output_type": "stream",
          "name": "stdout",
          "text": [
            "{1: 1, 2: 4, 3: 9, 4: 16, 5: 25, 6: 36, 7: 49, 8: 64, 9: 81, 10: 100, 11: 121, 12: 144, 13: 169, 14: 196, 15: 225}\n"
          ]
        }
      ],
      "source": [
        "def generate_dictionary():\n",
        "  dictionary = {}\n",
        "  for x in range (1, 16):\n",
        "    dictionary[x] = x**2\n",
        "  print(dictionary)\n",
        "\n",
        "generate_dictionary()"
      ]
    },
    {
      "cell_type": "markdown",
      "metadata": {
        "id": "oehTCZ07eMm_"
      },
      "source": [
        "---\n",
        "### Exercise 8 - colour dictionary  \n",
        "\n",
        "Write a function which will:  \n",
        "*  create a new dictionary record called colour_codes with the values 'red' - '#FF0000', 'green' - '#008000', 'black' - '#000000', 'white' - '#FFFFFF'\n",
        "*  add a new colour code:  'blue' - '#0000FF'    \n",
        "*  remove the colours black and white from the dictionary  \n",
        "\n",
        "*Hint:  there is a list of methods [here](https://www.w3schools.com/python/python_ref_dictionary.asp)*  "
      ]
    },
    {
      "cell_type": "code",
      "execution_count": 47,
      "metadata": {
        "id": "DCJC5Jk2eM5Q",
        "outputId": "12379bc3-dbb9-4d63-ab8e-62d47b663109",
        "colab": {
          "base_uri": "https://localhost:8080/"
        }
      },
      "outputs": [
        {
          "output_type": "stream",
          "name": "stdout",
          "text": [
            "{'red': '#FF0000', 'green': '#008000', 'blue': '#0000FF'}\n"
          ]
        }
      ],
      "source": [
        "def colour_dictionary():\n",
        "   colour_codes = {'red':'#FF0000', 'green':'#008000', 'black':'#000000', 'white':'#FFFFFF'}\n",
        "   colour_codes['blue'] = '#0000FF'\n",
        "   del colour_codes['black']\n",
        "   del colour_codes['white']\n",
        "   print(colour_codes)\n",
        "\n",
        "colour_dictionary()"
      ]
    },
    {
      "cell_type": "markdown",
      "metadata": {
        "id": "W1z8ixCzeN8x"
      },
      "source": [
        "---\n",
        "### Exercise 9 - item tuples  \n",
        "\n",
        "Write a function which will:  \n",
        "*  create a new dictionary containing the colour codes for red, green, blue, black and white\n",
        "*  print the key/value pairs of a dictionary as a list of tuples  \n",
        "\n",
        "*Hint:  iterate through colours.items()*"
      ]
    },
    {
      "cell_type": "code",
      "execution_count": 48,
      "metadata": {
        "id": "9fMy4RU_eOdE",
        "outputId": "077949c4-d6a6-4ab8-f83a-e29a14fcebfb",
        "colab": {
          "base_uri": "https://localhost:8080/"
        }
      },
      "outputs": [
        {
          "output_type": "stream",
          "name": "stdout",
          "text": [
            "red #FF0000\n",
            "green #008000\n",
            "blue #0000FF\n",
            "black #000000\n",
            "white #FFFFFF\n"
          ]
        }
      ],
      "source": [
        "def item_tuples():\n",
        "  colour_codes = {'red':'#FF0000', 'green':'#008000', 'blue': '#0000FF', 'black':'#000000', 'white':'#FFFFFF'}\n",
        "  for k,v in colour_codes.items():\n",
        "    print(k, v)\n",
        "\n",
        "item_tuples()"
      ]
    },
    {
      "cell_type": "markdown",
      "metadata": {
        "id": "gkrOvN9IePku"
      },
      "source": [
        "---\n",
        "### Exercise 10 - check if empty\n",
        "Taken from w3resouce.com  \n",
        "\n",
        "Write a function which will check if a dictionary is empty or not\n",
        "\n",
        "*Hint:  you can use bool(dictionary_name), if the dictionary is empty then bool(dictionary_name will be false)*\n",
        "\n",
        "Test 1 sample data:\n",
        "{}\n",
        "\n",
        "Expected output:\n",
        "Dictionary is empty  \n",
        "\n",
        "Test 2 sample data:  \n",
        "{\"name\":\"Groucho\", \"occupation\":\"comedian\"}\n",
        "\n",
        "Expected output:  \n",
        "Dictionary is not empty"
      ]
    },
    {
      "cell_type": "code",
      "execution_count": 52,
      "metadata": {
        "id": "BulXCFK0eQJ-",
        "outputId": "892a94fb-1e41-4a92-e9ba-e29817b21aa8",
        "colab": {
          "base_uri": "https://localhost:8080/"
        }
      },
      "outputs": [
        {
          "output_type": "stream",
          "name": "stdout",
          "text": [
            "Dictionary is not empty\n",
            "Dictionary is empty\n"
          ]
        }
      ],
      "source": [
        "def check_if_empty(dictionary):\n",
        "  if len(dictionary) > 0:\n",
        "    print('Dictionary is not empty')\n",
        "  else:\n",
        "    print('Dictionary is empty')\n",
        "\n",
        "check_if_empty({'red':'#FF0000', 'green':'#008000', 'blue': '#0000FF', 'black':'#000000', 'white':'#FFFFFF'})\n",
        "check_if_empty({})\n"
      ]
    }
  ],
  "metadata": {
    "colab": {
      "provenance": []
    },
    "kernelspec": {
      "display_name": "Python 3",
      "name": "python3"
    },
    "language_info": {
      "name": "python"
    }
  },
  "nbformat": 4,
  "nbformat_minor": 0
}