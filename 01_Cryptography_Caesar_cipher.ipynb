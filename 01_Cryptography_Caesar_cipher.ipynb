{
  "nbformat": 4,
  "nbformat_minor": 0,
  "metadata": {
    "colab": {
      "provenance": [],
      "include_colab_link": true
    },
    "kernelspec": {
      "name": "python3",
      "display_name": "Python 3"
    },
    "language_info": {
      "name": "python"
    }
  },
  "cells": [
    {
      "cell_type": "markdown",
      "metadata": {
        "id": "view-in-github",
        "colab_type": "text"
      },
      "source": [
        "<a href=\"https://colab.research.google.com/github/irynadunets/Introduction_to_Python/blob/master/01_Cryptography_Caesar_cipher.ipynb\" target=\"_parent\"><img src=\"https://colab.research.google.com/assets/colab-badge.svg\" alt=\"Open In Colab\"/></a>"
      ]
    },
    {
      "cell_type": "markdown",
      "source": [
        "# Cryptography with Python\n",
        "---\n",
        "\n",
        "## Getting started\n",
        "### Encrypting and decrypting data\n",
        "\n",
        "Useful for safe storage of passwords, encrypting smaller amounts of data before transfer\n",
        "\n",
        "Use **keys** and can be **symmetric** or **asymmetric**\n",
        "\n",
        "Let's start by looking at one of the simpler symmetric methods - the Caesar Cipher."
      ],
      "metadata": {
        "id": "T7jeG0_-XcOH"
      }
    },
    {
      "cell_type": "markdown",
      "source": [
        "### Symmetric cryptography\n",
        "---\n",
        "When the technique is symmetric the same key is used to encrypt and decrypt the data.\n",
        "\n",
        "The simplest example is the caesar cipher.\n",
        "\n",
        "#### Caesar cipher methodology\n",
        "\n",
        "A set of data is encrypted by taking each byte and adding a numerical value (the key) to produce an encrypted version of that byte data.  To return to the original data (decrypt) the same numerical value (key) is subtracted.\n",
        "\n",
        "**What would you expect the output of the following code to be?**"
      ],
      "metadata": {
        "id": "TcIS8uJRYpGU"
      }
    },
    {
      "cell_type": "code",
      "execution_count": null,
      "metadata": {
        "id": "fEzpaikuXX7o"
      },
      "outputs": [],
      "source": [
        "# Caesar cipher code example - encrypt the data\n",
        "###############################################\n",
        "\n",
        "def encrypt(data_block):\n",
        "  key = 5\n",
        "  encrypted_block = []\n",
        "  for byte in data_block:\n",
        "    encrypted_block.append(byte + key)\n",
        "  return encrypted_block\n",
        "\n",
        "\n",
        "data = [1,2,3,4,5]\n",
        "encrypted_data = encrypt(data)\n",
        "print(encrypted_data)"
      ]
    },
    {
      "cell_type": "markdown",
      "source": [
        "#### Run the code above to get the output and check that it is what you expected.\n",
        "\n",
        "The caesar cipher methodology is:\n",
        "*  determine the key\n",
        "*  read the first byte of data from the input data array\n",
        "*  **add** the key to it\n",
        "*  add the result to the output data array  \n",
        "\n",
        "Repeat with the next byte until end of array reached\n",
        "\n",
        "**What would you expect the output of the following code to be?**"
      ],
      "metadata": {
        "id": "flUNGgpymYby"
      }
    },
    {
      "cell_type": "code",
      "source": [
        "# Caesar cipher code example - decrypt the data\n",
        "###############################################\n",
        "\n",
        "def decrypt(encrypted_block):\n",
        "  key = 5\n",
        "  data_block = []\n",
        "  for byte in encrypted_block:\n",
        "    data_block.append(byte - key)\n",
        "  return data_block\n",
        "\n",
        "\n",
        "processed_data = decrypt(encrypted_data)\n",
        "print(processed_data)"
      ],
      "metadata": {
        "id": "0rKp6KR_aob1"
      },
      "execution_count": null,
      "outputs": []
    },
    {
      "cell_type": "markdown",
      "source": [
        "#### Run the code above to get the output and check that it is what you expected.\n",
        "\n",
        "The caesar cipher methodology for decrypting is:\n",
        "*  determine the key\n",
        "*  read the first byte of data from the input data array\n",
        "*  **subtract** the key from it\n",
        "*  add the result to the output data array  \n",
        "\n",
        "Repeat with the next byte until end of array reached"
      ],
      "metadata": {
        "id": "UpGn4GP1npkR"
      }
    },
    {
      "cell_type": "markdown",
      "source": [
        "## Exercise 1 - encrypt some text using the ASCII values for each letter\n",
        "---\n",
        "Use a caesar cipher technique to encrypt this short message:\n",
        "\n",
        "\"Keep this a secret\"\n",
        "\n",
        "Use a key of 10 and write an encrypt and a decrypt function.\n",
        "\n",
        "**Remember**:  you are encrypting a string and not a list, start with an empty string rather than an empty list and convert each letter to its ASCII code ready for conversion\n",
        "\n",
        "Write the encrypt function ```def encrypt(message)```\n",
        "\n",
        "Run it with message = \"Keep this a secret\"\n",
        "\n",
        "Expected encrypted version: Uooz*~rs}*k*}om|o~"
      ],
      "metadata": {
        "id": "8fE08tsiXcHS"
      }
    },
    {
      "cell_type": "code",
      "source": [
        "# Caesar cipher code example - encrypt the data\n",
        "###############################################\n",
        "def encrypt(input_string):\n",
        "   encrypted_string = \"\"\n",
        "   for i in range(len(input_string)):\n",
        "      letter = input_string[i]\n",
        "      if (letter.isupper()):\n",
        "            encrypted_string += chr((ord(letter) + 10 - 65) % 26 + 65)\n",
        "      elif (letter.islower()):\n",
        "            encrypted_string += chr((ord(letter) + 10 - 97) % 26 + 97)\n",
        "      elif ord(letter) > 31 and ord(letter) < 65:\n",
        "            encrypted_string += chr((ord(letter) + 10 - 32) % 32 + 32)\n",
        "   return encrypted_string\n",
        "\n",
        "print(encrypt(\"Keep this a secret\"))\n",
        "\n",
        "\n"
      ],
      "metadata": {
        "id": "IVmYFZcYcCXX",
        "colab": {
          "base_uri": "https://localhost:8080/"
        },
        "outputId": "c5a523af-35fc-49dc-a689-7a9260cae267"
      },
      "execution_count": 14,
      "outputs": [
        {
          "output_type": "stream",
          "name": "stdout",
          "text": [
            "Uooz*drsc*k*combod\n"
          ]
        }
      ]
    },
    {
      "cell_type": "markdown",
      "source": [
        "Now write the code to decrypt, expecting to get the original message back"
      ],
      "metadata": {
        "id": "6l8xy4dueMYm"
      }
    },
    {
      "cell_type": "code",
      "source": [
        "# Caesar cipher code example - decrypt the data\n",
        "###############################################\n",
        "def dencrypt(input_string):\n",
        "   decrypted_string = \"\"\n",
        "   for i in range(len(input_string)):\n",
        "      letter = input_string[i]\n",
        "      if (letter.isupper()):\n",
        "            decrypted_string += chr((ord(letter) - 10 - 65) % 26 + 65)\n",
        "      elif (letter.islower()):\n",
        "            decrypted_string += chr((ord(letter) - 10 - 97) % 26 + 97)\n",
        "      elif ord(letter) > 31 and ord(letter) < 65:\n",
        "            decrypted_string += chr((ord(letter) - 10 - 32) % 32 + 32)\n",
        "   return decrypted_string\n",
        "\n",
        "print(dencrypt(\"Uooz*drsc*k*combod\"))\n"
      ],
      "metadata": {
        "id": "Z_PXbFGLeR-b",
        "colab": {
          "base_uri": "https://localhost:8080/"
        },
        "outputId": "e1937309-35cd-4510-fde8-39d940def5d3"
      },
      "execution_count": 15,
      "outputs": [
        {
          "output_type": "stream",
          "name": "stdout",
          "text": [
            "Keep this a secret\n"
          ]
        }
      ]
    },
    {
      "cell_type": "markdown",
      "source": [
        "### Challenge - what is the key needed to decrypt this message?\n",
        "\n",
        "Znk&loxyz&x{rk&ul&ixvzumxgvn&ir{h&oy@&tk|kx&ot|ktz&g&ixvzumxgvn&yyzks&u{xykrl4&Znk&ykiutj&x{rk&ul&ixvzumxgvn&ir{h&oy@&tk|kx&osvrksktz&g&ixvzumxgvn&yyzks&u{xykrl@&sgt&xkgr3}uxrj&nurky&gxk&lu{tj&ot&znk&osvrksktzgzout&vngyk&ul&g&ixvzuyyzks&gy&}krr&gy&ot&znk&jkyomt4\n",
        "\n"
      ],
      "metadata": {
        "id": "aOyfSUfWe4xR"
      }
    },
    {
      "cell_type": "code",
      "source": [
        "def dencrypt(input_string, key):\n",
        "   dencrypted_string = \"\"\n",
        "   for i in range(len(input_string)):\n",
        "      letter = input_string[i]\n",
        "      if (letter.isupper()):\n",
        "            dencrypted_string += chr((ord(letter) - key - 65) % 26 + 65)\n",
        "      elif (letter.islower()):\n",
        "            dencrypted_string += chr((ord(letter) - key - 97) % 26 + 97)\n",
        "      elif ord(letter) > 31 and ord(letter) < 65:\n",
        "            dencrypted_string += chr((ord(letter) - key - 32) % 32 + 32)\n",
        "      elif ord(letter) > 90 and ord(letter) < 97:\n",
        "            dencrypted_string += chr((ord(letter) - key - 91) % 6 + 91)\n",
        "      elif ord(letter) > 122 and ord(letter) < 128:\n",
        "            dencrypted_string += chr((ord(letter) - key - 123) % 5 + 123)\n",
        "   return dencrypted_string\n",
        "\n",
        "for key in range(1, 20):\n",
        "  print(dencrypt('Znk&loxyz&x{rk&ul&ixvzumxgvn&ir{h&oy@&tk|kx&ot|ktz&g&ixvzumxgvn&yyzks&u{xykrl4&Znk&ykiutj&x{rk&ul&ixvzumxgvn&ir{h&oy@&tk|kx&osvrksktz&g&ixvzumxgvn&yyzks&u{xykrl@&sgt&xkgr3}uxrj&nurky&gxk&lu{tj&ot&znk&osvrksktzgzout&vngyk&ul&g&ixvzuyyzks&gy&}krr&gy&ot&znk&jkyomt4',key))"
      ],
      "metadata": {
        "id": "LaGMXVrCfhX0",
        "colab": {
          "base_uri": "https://localhost:8080/"
        },
        "outputId": "e128a277-d602-4c7b-c886-8713436beeaf"
      },
      "execution_count": 35,
      "outputs": [
        {
          "output_type": "stream",
          "name": "stdout",
          "text": [
            "Ymj%knwxy%wqj%tk%hw~uytlwfum~%hqg%nx?%sj{jw%ns{jsy%f%hw~uytlwfum~%x~xyjr%~twxjqk3%Ymj%xjhtsi%wqj%tk%hw~uytlwfum~%hqg%nx?%sj{jw%nruqjrjsy%f%hw~uytlwfum~%x~xyjr%~twxjqk?%rfs~%wjfq2|twqi%mtqjx%fwj%ktsi%ns%ymj%nruqjrjsyfynts%umfxj%tk%f%hw~uytx~xyjr%fx%|jqq%fx%ns%ymj%ijxnls3\n",
            "Xli$jmvwx$v~pi$sj$gv}txskvetl}$gp~f$mw>$riiv$mrirx$e$gv}txskvetl}$w}wxiq$}s~vwipj2$Xli$wigsrh$v~pi$sj$gv}txskvetl}$gp~f$mw>$riiv$mqtpiqirx$e$gv}txskvetl}$w}wxiq$}s~vwipj>$qer}$viep1{svph$lspiw$evi$js~rh$mr$xli$mqtpiqirxexmsr$tlewi$sj$e$gv}txsw}wxiq$ew${ipp$ew$mr$xli$hiwmkr2\n",
            "Wkh#iluvw#u}oh#ri#fu|swrjudsk|#fo}e#lv=#qh~hu#lq~hqw#d#fu|swrjudsk|#v|vwhp#|r}uvhoi1#Wkh#vhfrqg#u}oh#ri#fu|swrjudsk|#fo}e#lv=#qh~hu#lpsohphqw#d#fu|swrjudsk|#v|vwhp#|r}uvhoi=#pdq|#uhdo0ruog#krohv#duh#ir}qg#lq#wkh#lpsohphqwdwlrq#skdvh#ri#d#fu|swrv|vwhp#dv#hoo#dv#lq#wkh#ghvljq1\n",
            "Vjg\"hktuv\"t|ng\"qh\"et{rvqitcrj{\"en|d\"ku<\"pg}gt\"kp}gpv\"c\"et{rvqitcrj{\"u{uvgo\"{q|tugnh0\"Vjg\"ugeqpf\"t|ng\"qh\"et{rvqitcrj{\"en|d\"ku<\"pg}gt\"korngogpv\"c\"et{rvqitcrj{\"u{uvgo\"{q|tugnh<\"ocp{\"tgcn/~qtnf\"jqngu\"ctg\"hq|pf\"kp\"vjg\"korngogpvcvkqp\"rjcug\"qh\"c\"et{rvqu{uvgo\"cu\"~gnn\"cu\"kp\"vjg\"fgukip0\n",
            "Uif!gjstu!s{mf!pg!dsquphsbqi!dm{c!jt;!of|fs!jo|fou!b!dsquphsbqi!ttufn!p{stfmg/!Uif!tfdpoe!s{mf!pg!dsquphsbqi!dm{c!jt;!of|fs!jnqmfnfou!b!dsquphsbqi!ttufn!p{stfmg;!nbo!sfbm.}psme!ipmft!bsf!gp{oe!jo!uif!jnqmfnfoubujpo!qibtf!pg!b!dsqupttufn!bt!}fmm!bt!jo!uif!eftjho/\n",
            "The first rle of cr~ptograph~ clb is: ne{er in{ent a cr~ptograph~ s~stem ~orself. The second rle of cr~ptograph~ clb is: ne{er implement a cr~ptograph~ s~stem ~orself: man~ real-|orld holes are fond in the implementation phase of a cr~ptos~stem as |ell as in the design.\n",
            "Sgd?ehqrs?q~kd?ne?bq}osnfqzog}?bk~a?hr9?mddq?hmdms?z?bq}osnfqzog}?r}rsdl?}n~qrdke-?Sgd?rdbnmc?q~kd?ne?bq}osnfqzog}?bk~a?hr9?mddq?hlokdldms?z?bq}osnfqzog}?r}rsdl?}n~qrdke9?lzm}?qdzk,{nqkc?gnkdr?zqd?en~mc?hm?sgd?hlokdldmszshnm?ogzrd?ne?z?bq}osnr}rsdl?zr?{dkk?zr?hm?sgd?cdrhfm-\n",
            "Rfc>dgpqr>p}jc>md>ap|nrmepynf|>aj}z>gq8>lc~cp>gl~clr>y>ap|nrmepynf|>q|qrck>|m}pqcjd,>Rfc>qcamlb>p}jc>md>ap|nrmepynf|>aj}z>gq8>lc~cp>gknjckclr>y>ap|nrmepynf|>q|qrck>|m}pqcjd8>kyl|>pcyj+mpjb>fmjcq>ypc>dm}lb>gl>rfc>gknjckclryrgml>nfyqc>md>y>ap|nrmq|qrck>yq>cjj>yq>gl>rfc>bcqgel,\n",
            "Qeb=cfopq=o|ib=lc=zo{mqldoxme{=zi|y=fp7=kb}bo=fk}bkq=x=zo{mqldoxme{=p{pqbj={l|opbic+=Qeb=pbzlka=o|ib=lc=zo{mqldoxme{=zi|y=fp7=kb}bo=fjmibjbkq=x=zo{mqldoxme{=p{pqbj={l|opbic7=jxk{=obxi*~loia=elibp=xob=cl|ka=fk=qeb=fjmibjbkqxqflk=mexpb=lc=x=zo{mqlp{pqbj=xp=~bii=xp=fk=qeb=abpfdk+\n",
            "Pda<benop<n{ha<kb<ynlpkcnwld<yh{x<eo6<ja|an<ej|ajp<w<ynlpkcnwld<oopai<k{noahb*<Pda<oaykjz<n{ha<kb<ynlpkcnwld<yh{x<eo6<ja|an<eilhaiajp<w<ynlpkcnwld<oopai<k{noahb6<iwj<nawh)}knhz<dkhao<wna<bk{jz<ej<pda<eilhaiajpwpekj<ldwoa<kb<w<ynlpkoopai<wo<}ahh<wo<ej<pda<zaoecj*\n",
            "Ocz;admno;mgz;ja;xm~kojbmvkc~;xgw;dn5;iz{zm;di{zio;v;xm~kojbmvkc~;n~nozh;~jmnzga);Ocz;nzxjiy;mgz;ja;xm~kojbmvkc~;xgw;dn5;iz{zm;dhkgzhzio;v;xm~kojbmvkc~;n~nozh;~jmnzga5;hvi~;mzvg(|jmgy;cjgzn;vmz;ajiy;di;ocz;dhkgzhziovodji;kcvnz;ja;v;xm~kojn~nozh;vn;|zgg;vn;di;ocz;yzndbi)\n",
            "Nby:zclmn:l~fy:iz:wl}jnialujb}:wf~v:cm4:hyyl:chyhn:u:wl}jnialujb}:m}mnyg:}i~lmyfz(:Nby:mywihx:l~fy:iz:wl}jnialujb}:wf~v:cm4:hyyl:cgjfygyhn:u:wl}jnialujb}:m}mnyg:}i~lmyfz4:guh}:lyuf'{ilfx:bifym:uly:zi~hx:ch:nby:cgjfygyhnuncih:jbumy:iz:u:wl}jnim}mnyg:um:{yff:um:ch:nby:xymcah(\n",
            "Max9ybklm9k}ex9hy9vk|imhzktia|9ve}u9bl39gx~xk9bg~xgm9t9vk|imhzktia|9l|lmxf9|h}klxey'9Max9lxvhgw9k}ex9hy9vk|imhzktia|9ve}u9bl39gx~xk9bfiexfxgm9t9vk|imhzktia|9l|lmxf9|h}klxey39ftg|9kxte&hkew9ahexl9tkx9yh}gw9bg9max9bfiexfxgmtmbhg9iatlx9hy9t9vk|imhl|lmxf9tl9xee9tl9bg9max9wxlbzg'\n",
            "Lzw8xajkl8j|dw8gx8uj{hlgyjshz{8ud|t8ak28fw}wj8af}wfl8s8uj{hlgyjshz{8k{klwe8{g|jkwdx&8Lzw8kwugfv8j|dw8gx8uj{hlgyjshz{8ud|t8ak28fw}wj8aehdwewfl8s8uj{hlgyjshz{8k{klwe8{g|jkwdx28esf{8jwsd%~gjdv8zgdwk8sjw8xg|fv8af8lzw8aehdwewflslagf8hzskw8gx8s8uj{hlgk{klwe8sk8~wdd8sk8af8lzw8vwkayf&\n",
            "Kyv7wzijk7i{cv7fw7tigkfxirgy7tc{s7zj17ev|vi7ze|vek7r7tigkfxirgy7jjkvd7f{ijvcw%7Kyv7jvtfeu7i{cv7fw7tigkfxirgy7tc{s7zj17ev|vi7zdgcvdvek7r7tigkfxirgy7jjkvd7f{ijvcw17dre7ivrc$}ficu7yfcvj7riv7wf{eu7ze7kyv7zdgcvdvekrkzfe7gyrjv7fw7r7tigkfjjkvd7rj7}vcc7rj7ze7kyv7uvjzxe%\n",
            "Jxu6vyhij6hbu6ev6sh~fjewhqfx~6sbr6yi06du{uh6yd{udj6q6sh~fjewhqfx~6i~ijuc6~ehiubv$6Jxu6iusedt6hbu6ev6sh~fjewhqfx~6sbr6yi06du{uh6ycfbucudj6q6sh~fjewhqfx~6i~ijuc6~ehiubv06cqd~6huqb#|ehbt6xebui6qhu6vedt6yd6jxu6ycfbucudjqjyed6fxqiu6ev6q6sh~fjei~ijuc6qi6|ubb6qi6yd6jxu6tuiywd$\n",
            "Iwt5uxghi5g~at5du5rg}eidvgpew}5ra~q5xh/5cttg5xctci5p5rg}eidvgpew}5h}hitb5}d~ghtau#5Iwt5htrdcs5g~at5du5rg}eidvgpew}5ra~q5xh/5cttg5xbeatbtci5p5rg}eidvgpew}5h}hitb5}d~ghtau/5bpc}5gtpa\"{dgas5wdath5pgt5ud~cs5xc5iwt5xbeatbtcipixdc5ewpht5du5p5rg}eidh}hitb5ph5{taa5ph5xc5iwt5sthxvc#\n",
            "Hvs4twfgh4f}zs4ct4qf|dhcufodv|4qz}p4wg.4bs~sf4wb~sbh4o4qf|dhcufodv|4g|ghsa4|c}fgszt\"4Hvs4gsqcbr4f}zs4ct4qf|dhcufodv|4qz}p4wg.4bs~sf4wadzsasbh4o4qf|dhcufodv|4g|ghsa4|c}fgszt.4aob|4fsoz!cfzr4vczsg4ofs4tc}br4wb4hvs4wadzsasbhohwcb4dvogs4ct4o4qf|dhcg|ghsa4og4szz4og4wb4hvs4rsgwub\"\n",
            "Gur3svefg3e|yr3bs3pe{cgbtencu{3py|o3vf-3ar}re3va}rag3n3pe{cgbtencu{3f{fgrz3{b|efrys!3Gur3frpbaq3e|yr3bs3pe{cgbtencu{3py|o3vf-3ar}re3vzcyrzrag3n3pe{cgbtencu{3f{fgrz3{b|efrys-3zna{3erny ~beyq3ubyrf3ner3sb|aq3va3gur3vzcyrzragngvba3cunfr3bs3n3pe{cgbf{fgrz3nf3~ryy3nf3va3gur3qrfvta!\n"
          ]
        }
      ]
    },
    {
      "cell_type": "markdown",
      "source": [
        "### Keeping secret keys secret\n",
        "---\n",
        "Python is an interpreted language and the code exists in its text form while it is running.  It can be relatively easily stopped and viewed during execution.  This means that setting the key in the code is not really secure.\n",
        "\n",
        "Most development environments provide the facility to store 'environment variables'.  These are kept separate from the code and so can be kept private.\n",
        "\n",
        "####Setting an environment variable in a colab notebook\n",
        "\n",
        "The main thing is to not store the key in the notebook (as these can be shared).  You can avoid this by making sure that all who will run the code in the notebook know the key and can copy it in just for when they are working in the notebook.  The notebook will delete all data on closing the session and so the notebook can be shared without sharing the key.\n",
        "\n",
        "Here is a way to store data in the notebook environment when it is opened so that it is then available for the session.\n",
        "\n",
        "First:  install a library into the notebook to manage the environment:"
      ],
      "metadata": {
        "id": "1IihkMlrlq0d"
      }
    },
    {
      "cell_type": "code",
      "source": [],
      "metadata": {
        "id": "UqapTDtVoR-P",
        "colab": {
          "base_uri": "https://localhost:8080/"
        },
        "outputId": "36152306-f316-4472-cd04-1a786b119c30"
      },
      "execution_count": null,
      "outputs": [
        {
          "output_type": "stream",
          "name": "stdout",
          "text": [
            "Collecting python-dotenv\n",
            "  Downloading python_dotenv-1.0.0-py3-none-any.whl (19 kB)\n",
            "Installing collected packages: python-dotenv\n",
            "Successfully installed python-dotenv-1.0.0\n"
          ]
        }
      ]
    },
    {
      "cell_type": "markdown",
      "source": [
        "Then:  use some code to get the user to input the key, and store it in the notebook's environment.  Immediately clear the output so that the key is not visible.  If the notebook is shared, each user will need to input the key on starting the notebook."
      ],
      "metadata": {
        "id": "W7hmdOekotk-"
      }
    },
    {
      "cell_type": "code",
      "source": [
        "!pip install python-dotenv\n",
        "import dotenv\n",
        "import os\n",
        "from google.colab import output\n",
        "\n",
        "key = input(\"Enter the secret key: \")\n",
        "os.environ['SECRET_KEY'] = key\n",
        "output.clear()"
      ],
      "metadata": {
        "id": "6jrZMGF5pdwD"
      },
      "execution_count": 34,
      "outputs": []
    },
    {
      "cell_type": "markdown",
      "source": [
        "## Mini-project\n",
        "---\n",
        "\n",
        "Create a caesar cipher algorithm that will encrypt only alphabet letters.  The algorithm will shift capital letters left or right by the key and will loop round so that an 'X' with a shift key of 5 will be encoded to 'C' and a 'D' with a shift key of -8 will be decoded to 'U'.  The same strategy will be used with the lower case letters.\n",
        "\n",
        "To solve this problem:\n",
        "*  set a key in the environment (practice with a key of 1)\n",
        "*  call the function with some text (practice with 'aBc')\n",
        "*  define 2 lists - one of all the uppercase letters and one of all the lowercase letters\n",
        "*  use the key to shift the letters to the right and store in a new string called encoded (remembering to loop round if you get to the end of the alphabet).  Check each letter and use the appropriate list to encode (ie uppercase or lowercase)\n",
        "*  if a letter is not in either uppercase or lowercase list, do not change it\n",
        "*  test that encoded has the expected value of 'bCd'\n",
        "\n",
        "Test the program with each of the following texts:\n",
        "\n",
        "'Xyz'  \n",
        "'Zara'  \n",
        "'lazy'\n",
        "'Hello!'\n",
        "\n",
        "Write a second function caesar_decrypt(encoded, shift) to decrypt given text.\n",
        "Use the encoded text from the original inputs to check that you can get back to the originals.\n",
        "\n",
        "Use your functions to encode, print, decode and print again, the following text:  \n",
        "\n",
        "'The secret key is still secret, hidden in this notebook!'\n",
        "\n",
        "Can you modify the functions to also encode these punctuation characters ',' '.' '!' '?'   again, loop round to ensure that punctuation is only encoded as punctuation\n"
      ],
      "metadata": {
        "id": "w51VyqZkBsKd"
      }
    },
    {
      "cell_type": "code",
      "source": [
        "def encrypt(input_string, key):\n",
        "   dencrypted_string = \"\"\n",
        "   punctuation = [ ',', '.' ,'!', '?' ]\n",
        "   for i in range(len(input_string)):\n",
        "      letter = input_string[i]\n",
        "      if (letter.isupper()):\n",
        "            dencrypted_string += chr((ord(letter) + key - 65) % 26 + 65)\n",
        "      elif (letter.islower()):\n",
        "            dencrypted_string += chr((ord(letter) + key - 97) % 26 + 97)\n",
        "      elif (ord(letter) == 32):\n",
        "            dencrypted_string += ' '\n",
        "      elif (letter == ',' or letter == '.' or letter == '!' or letter == '?'):\n",
        "            ind = punctuation.index(letter) + key\n",
        "            while ind > 3:\n",
        "              ind -= 3\n",
        "            dencrypted_string += punctuation[ind]\n",
        "   return dencrypted_string\n",
        "\n",
        "\n",
        "def decrypt(input_string, key):\n",
        "   dencrypted_string = \"\"\n",
        "   punctuation = [ ',', '.' ,'!', '?' ]\n",
        "   for i in range(len(input_string)):\n",
        "      letter = input_string[i]\n",
        "      if (letter.isupper()):\n",
        "            dencrypted_string += chr((ord(letter) - key - 65) % 26 + 65)\n",
        "      elif (letter.islower()):\n",
        "            dencrypted_string += chr((ord(letter) - key - 97) % 26 + 97)\n",
        "      elif (ord(letter) == 32):\n",
        "            dencrypted_string += ' '\n",
        "      elif (letter == ',' or letter == '.' or letter == '!' or letter == '?'):\n",
        "            ind = punctuation.index(letter) - key\n",
        "            while ind < 0 :\n",
        "              ind += 3\n",
        "            dencrypted_string += punctuation[ind]\n",
        "\n",
        "   return dencrypted_string\n",
        "\n",
        "for key in range(1, 20):\n",
        "  string_encoded = encrypt('The secret key is still secret, hidden in this notebook!', key)\n",
        "  print(string_encoded)\n",
        "  print(decrypt(string_encoded, key))\n",
        "  print('________________________________________________________')\n"
      ],
      "metadata": {
        "id": "qPB8_A2WCQw-",
        "colab": {
          "base_uri": "https://localhost:8080/"
        },
        "outputId": "24a60d3a-1b3e-4a9e-dac7-0da9d4050ee8"
      },
      "execution_count": 21,
      "outputs": [
        {
          "output_type": "stream",
          "name": "stdout",
          "text": [
            "Uif tfdsfu lfz jt tujmm tfdsfu. ijeefo jo uijt opufcppl?\n",
            "The secret key is still secret, hidden in this notebook!\n",
            "________________________________________________________\n",
            "Vjg ugetgv mga ku uvknn ugetgv! jkffgp kp vjku pqvgdqqm.\n",
            "The secret key is still secret, hidden in this notebook!\n",
            "________________________________________________________\n",
            "Wkh vhfuhw nhb lv vwloo vhfuhw? klgghq lq wklv qrwherrn!\n",
            "The secret key is still secret, hidden in this notebook!\n",
            "________________________________________________________\n",
            "Xli wigvix oic mw wxmpp wigvix. lmhhir mr xlmw rsxifsso?\n",
            "The secret key is still secret, hidden in this notebook!\n",
            "________________________________________________________\n",
            "Ymj xjhwjy pjd nx xynqq xjhwjy! mniijs ns ymnx styjgttp.\n",
            "The secret key is still secret, hidden in this notebook!\n",
            "________________________________________________________\n",
            "Znk ykixkz qke oy yzorr ykixkz? nojjkt ot znoy tuzkhuuq!\n",
            "The secret key is still secret, hidden in this notebook!\n",
            "________________________________________________________\n",
            "Aol zljyla rlf pz zapss zljyla. opkklu pu aopz uvalivvr?\n",
            "The secret key is still secret, hidden in this notebook!\n",
            "________________________________________________________\n",
            "Bpm amkzmb smg qa abqtt amkzmb! pqllmv qv bpqa vwbmjwws.\n",
            "The secret key is still secret, hidden in this notebook!\n",
            "________________________________________________________\n",
            "Cqn bnlanc tnh rb bcruu bnlanc? qrmmnw rw cqrb wxcnkxxt!\n",
            "The secret key is still secret, hidden in this notebook!\n",
            "________________________________________________________\n",
            "Dro combod uoi sc cdsvv combod. rsnnox sx drsc xydolyyu?\n",
            "The secret key is still secret, hidden in this notebook!\n",
            "________________________________________________________\n",
            "Esp dpncpe vpj td detww dpncpe! stoopy ty estd yzepmzzv.\n",
            "The secret key is still secret, hidden in this notebook!\n",
            "________________________________________________________\n",
            "Ftq eqodqf wqk ue efuxx eqodqf? tuppqz uz ftue zafqnaaw!\n",
            "The secret key is still secret, hidden in this notebook!\n",
            "________________________________________________________\n",
            "Gur frperg xrl vf fgvyy frperg. uvqqra va guvf abgrobbx?\n",
            "The secret key is still secret, hidden in this notebook!\n",
            "________________________________________________________\n",
            "Hvs gsqfsh ysm wg ghwzz gsqfsh! vwrrsb wb hvwg bchspccy.\n",
            "The secret key is still secret, hidden in this notebook!\n",
            "________________________________________________________\n",
            "Iwt htrgti ztn xh hixaa htrgti? wxsstc xc iwxh cditqddz!\n",
            "The secret key is still secret, hidden in this notebook!\n",
            "________________________________________________________\n",
            "Jxu iushuj auo yi ijybb iushuj. xyttud yd jxyi dejureea?\n",
            "The secret key is still secret, hidden in this notebook!\n",
            "________________________________________________________\n",
            "Kyv jvtivk bvp zj jkzcc jvtivk! yzuuve ze kyzj efkvsffb.\n",
            "The secret key is still secret, hidden in this notebook!\n",
            "________________________________________________________\n",
            "Lzw kwujwl cwq ak kladd kwujwl? zavvwf af lzak fglwtggc!\n",
            "The secret key is still secret, hidden in this notebook!\n",
            "________________________________________________________\n",
            "Max lxvkxm dxr bl lmbee lxvkxm. abwwxg bg mabl ghmxuhhd?\n",
            "The secret key is still secret, hidden in this notebook!\n",
            "________________________________________________________\n"
          ]
        }
      ]
    }
  ]
}