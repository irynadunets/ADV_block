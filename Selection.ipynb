{
  "nbformat": 4,
  "nbformat_minor": 0,
  "metadata": {
    "colab": {
      "provenance": []
    },
    "kernelspec": {
      "name": "python3",
      "display_name": "Python 3"
    },
    "language_info": {
      "name": "python"
    }
  },
  "cells": [
    {
      "cell_type": "markdown",
      "source": [
        "<a href=\"https://colab.research.google.com/github/StefanMeyer7/Python-Fundamentals/blob/main/Selection.ipynb\" target=\"_parent\"><img src=\"https://colab.research.google.com/assets/colab-badge.svg\" alt=\"Open In Colab\"/></a>"
      ],
      "metadata": {
        "id": "hypbENCo_DGn"
      }
    },
    {
      "cell_type": "markdown",
      "source": [
        "## Selection (if...elif...else)\n",
        "\n",
        "---\n"
      ],
      "metadata": {
        "id": "lTb7kV0B-iVj"
      }
    },
    {
      "cell_type": "markdown",
      "source": [
        "A key part of problem solving is decision making.  Decisions are based on data and have a set of outcomes depending on that data.\n",
        "\n",
        "A program is a sequence of instructions to be followed by the computer, to solve a particular problem.    \n",
        "\n",
        "It is not always useful for programs to do the exact same thing every time, in exactly the same way.  \n",
        "\n",
        "Say we have a program that will tell someone if they are too young to drive a car. We don't want it to tell them this if they are over 17. So we use an if statement to say: if the user's age is less than 17, tell them they are too young to drive a car.\n",
        "\n",
        "Run the code in the cell below to see if it works for the years 2006 and 2000"
      ],
      "metadata": {
        "id": "VzBWxE1u-i-x"
      }
    },
    {
      "cell_type": "code",
      "source": [
        "from datetime import datetime\n",
        "\n",
        "# determine if user is old enough to drive\n",
        "def drive_age():\n",
        "    birth_year = int(input(\"What year were you born?\"))\n",
        "    current_year = datetime.now().year\n",
        "    age = current_year - birth_year\n",
        "    if age < 17:\n",
        "        print(\"You are too young to drive a car\")\n",
        "\n",
        "drive_age()"
      ],
      "metadata": {
        "id": "vfhzZYV8-kyX"
      },
      "execution_count": null,
      "outputs": []
    },
    {
      "cell_type": "markdown",
      "source": [
        "---\n",
        "## Using else    \n",
        "\n",
        "So the program tells someone if they are too young to drive but if they are old enough it doesn't do anything. We need to give it an alternative action.  \n",
        "\n",
        "Run the code in the cell below to see if it works for the years 2006 and 2000  "
      ],
      "metadata": {
        "id": "v39YFr6i-nkq"
      }
    },
    {
      "cell_type": "code",
      "source": [
        "from datetime import datetime\n",
        "\n",
        "# determine if user is old enough to drive or not\n",
        "def drive_age():\n",
        "    birth_year = int(input(\"What year were you born?\"))\n",
        "    current_year = datetime.now().year\n",
        "    age = current_year - birth_year\n",
        "    if age < 17:\n",
        "        print(\"You are too young to drive a car\")\n",
        "    else:\n",
        "        print(\"You are old enough to drive a car\")\n",
        "\n",
        "drive_age()"
      ],
      "metadata": {
        "id": "EBM08-uw-rwr"
      },
      "execution_count": null,
      "outputs": []
    },
    {
      "cell_type": "markdown",
      "source": [
        "So an if statement is written like this:  \n",
        "\n",
        "```\n",
        "if A CONDITION IS TRUE :  \n",
        "  DO SOMETHING  \n",
        "else:  \n",
        "  DO SOMETHING ELSE\n",
        "```\n",
        "\n",
        "\n",
        "Important things to know:  \n",
        "\n",
        "A CONDITION can be *True* or *False* either because it is a boolean variable (storing the value True or False) or because it is using some form of comparison or logical operator:\n",
        "\n",
        "age < 17\n",
        "This is *True* if the value of **age** is less than 17 and *False* if the value of age is 17 or above\n",
        "\n",
        "name == \"Bill\"\n",
        "This is *True* if the value of the variable **name** is \"Bill\" and *False* if the value is any other name\n",
        "\n",
        "height >= 150\n",
        "This is *True* if the value of **height** is greater than, or equal to, 150 and *False* if the value is less than 150\n",
        "\n",
        "### What if there is more than one option?\n",
        "If you ask someone their age, then there may be a number of different things you can print depending on what it is:  \n",
        "\n",
        "Run the code in the cell below, try some different ages to get different results.    "
      ],
      "metadata": {
        "id": "vEI6wnmL-uLl"
      }
    },
    {
      "cell_type": "code",
      "source": [
        "def age_to_drive():\n",
        "    age = int(input(\"Please enter your age\"))\n",
        "    if age >= 17:\n",
        "        print(\"You are old enough to drive\")\n",
        "    elif age >= 13:\n",
        "        print(\"You are too young to drive but you are old enough to have a social media account\")\n",
        "    else:\n",
        "        print(\"You are too young to drive and to have a social media account\")\n",
        "\n",
        "age_to_drive()"
      ],
      "metadata": {
        "id": "vHhN7lPi-vr-"
      },
      "execution_count": null,
      "outputs": []
    },
    {
      "cell_type": "markdown",
      "source": [
        "Here's another example, try this one out:    \n",
        "*  ask the user to enter their **name**.    \n",
        "*  if their `name` is Bill then print \"Where is Ben?\"  \n",
        "*  if their `name` is Ben print \"Where is Bill?\"  \n",
        "*  otherwise print \"Where are Bill and Ben?\"  "
      ],
      "metadata": {
        "id": "MajARFmo-y1W"
      }
    },
    {
      "cell_type": "code",
      "source": [
        "def bill_or_ben():\n",
        "    name = input(\"What is your name?\")\n",
        "    if name == \"Bill\":\n",
        "      print(\"Where is Ben?\")\n",
        "    elif name == \"Ben\":\n",
        "      print(\"Where is Bill?\")\n",
        "    else:\n",
        "      print(\"Where are Bill and Ben?\")\n",
        "\n",
        "bill_or_ben()"
      ],
      "metadata": {
        "id": "zBLCkev_-0s9"
      },
      "execution_count": null,
      "outputs": []
    },
    {
      "cell_type": "markdown",
      "source": [
        "---\n",
        "### Exercise 1  - if and else\n",
        "\n",
        "Write a function called **find_greater()** which will:\n",
        "\n",
        "*  ask the user for 2 numbers (**num1** and **num2**)  \n",
        "*  use an if statement that compares the two numbers and prints the one that is the greater of the two.  "
      ],
      "metadata": {
        "id": "9rrdAWZp-2S7"
      }
    },
    {
      "cell_type": "code",
      "source": [
        "def find_greater():\n",
        "  num1 = int(input('Input number1: '))\n",
        "  num2 = int(input('Input number2: '))\n",
        "  if num1 > num2:\n",
        "    greater = num1\n",
        "  else:\n",
        "    greater = num2\n",
        "  print(greater)\n",
        "find_greater()"
      ],
      "metadata": {
        "id": "GZXrhYRh-4Kp",
        "outputId": "bc603dcf-e6fe-4bc3-b210-4981b894cfec",
        "colab": {
          "base_uri": "https://localhost:8080/"
        }
      },
      "execution_count": 2,
      "outputs": [
        {
          "output_type": "stream",
          "name": "stdout",
          "text": [
            "Input number1: 3\n",
            "Input number2: 8\n",
            "8\n"
          ]
        }
      ]
    },
    {
      "cell_type": "markdown",
      "source": [
        "---\n",
        "### Exercise 2 -\n",
        "\n",
        "Write a function called **guess_number(random_number)** which will use the generated **random_number**, between 1 and 100, provided in the brackets (called a parameter):  \n",
        "\n",
        "*  ask the user to **guess** the `random_number`  \n",
        "*  if the `guess` is greater than the `random_number` print \"Too high\"  \n",
        "*  else if the `guess` is less than the `random_number` print \"Too low\"  \n"
      ],
      "metadata": {
        "id": "8YpiGWK6-5Oz"
      }
    },
    {
      "cell_type": "code",
      "source": [
        "from random import randint\n",
        "\n",
        "def guess_number(randomNumber):\n",
        "  # add your code below here\n",
        "  number = int(input('Guess random number from 1 to 100 '))\n",
        "  if number > randomNumber:\n",
        "    result = 'Too high'\n",
        "  elif number < randomNumber:\n",
        "    result = 'Too low'\n",
        "  else:\n",
        "    result = 'You guess number'\n",
        "  print(result)\n",
        "\n",
        "guess_number(randint(1,100))"
      ],
      "metadata": {
        "id": "uhADiWIW-6c6",
        "outputId": "ae18db6f-aace-4d52-d811-b11d08941d4e",
        "colab": {
          "base_uri": "https://localhost:8080/"
        }
      },
      "execution_count": 7,
      "outputs": [
        {
          "output_type": "stream",
          "name": "stdout",
          "text": [
            "Guess random number from 1 to 100 67\n",
            "Too low\n"
          ]
        }
      ]
    },
    {
      "cell_type": "markdown",
      "source": [
        "---\n",
        "### Exercise 3 - AM or PM\n",
        "\n",
        "Write a function called **is_afternoon()** which will:\n",
        "\n",
        "*  ask the user to enter the **time** in 24 hour clock format (e.g. 1759)  \n",
        "*  use floor division (by 100) to calculate the **hour**  \n",
        "*  use modulus (100) to calculate the **minutes**  \n",
        "*  if the **hour** is 12 or greater, assign \"PM\" to a variable called **am_pm** AND subtract 12 from `hour` and store the result back in `hour`  \n",
        "*  else assign \"AM\" to the `am_pm` variable   \n",
        "*  assign the value str(`hour`) + \":\" + str(`minutes`) + `am_pm` to a new variable called **text_time**  \n",
        "*  print the message \"The time is\", `text_time`    \n",
        "\n",
        "Test input:  \n",
        "1759  \n",
        "\n",
        "Expected output:  \n",
        "The time is 5:59PM  \n",
        "\n",
        "Test input:  \n",
        "1132  \n",
        "\n",
        "Expected output:  \n",
        "The time is 11:32AM"
      ],
      "metadata": {
        "id": "Op5aC1Pb-714"
      }
    },
    {
      "cell_type": "code",
      "source": [
        "def is_afternoon():\n",
        "  time = int(input('input afternoon time '))\n",
        "  hour = time // 100\n",
        "  if hour > 12 :\n",
        "    hour = hour -12\n",
        "    am_pm = 'PM'\n",
        "  else:\n",
        "    am_pm = 'AM'\n",
        "  minutes = time % 100\n",
        "  print('The time is',hour,':',minutes,am_pm)\n",
        "is_afternoon()"
      ],
      "metadata": {
        "id": "TNpm-5N0-8s4",
        "outputId": "1e62dbca-189c-4937-f916-7e0e2cb6df66",
        "colab": {
          "base_uri": "https://localhost:8080/"
        }
      },
      "execution_count": 8,
      "outputs": [
        {
          "output_type": "stream",
          "name": "stdout",
          "text": [
            "input afternoon time 1759\n",
            "The time is 5 : 59 PM\n"
          ]
        }
      ]
    },
    {
      "cell_type": "markdown",
      "source": [
        "---\n",
        "### Exercise 4 - Getting a number within limits\n",
        "\n",
        "Write a function called **validate()** which will:\n",
        "\n",
        "*  ask the user to enter a **number** between 1 and 100  \n",
        "*  if the `number` is less than 1 or more than 100, print the error message \"Number out of limits\"  \n",
        "*  else print \"Your number was\" followed by the `number`\n",
        "\n",
        "Test input:  \n",
        "50  \n",
        "\n",
        "Expected output:  \n",
        "Your number was 50  \n",
        "\n",
        "Test input:  \n",
        "150  \n",
        "\n",
        "Expected output:  \n",
        "Number out of limits"
      ],
      "metadata": {
        "id": "YLRfH_lX-9LY"
      }
    },
    {
      "cell_type": "code",
      "source": [
        "def validate():\n",
        "  number = int(input('Input number between 1 and 100 '))\n",
        "  if number < 1 or number > 100:\n",
        "    message = 'Number out of limits'\n",
        "  else:\n",
        "    message = 'Your number was '+ str(number)\n",
        "  print(message)\n",
        "validate()\n",
        ""
      ],
      "metadata": {
        "id": "cGKytvBY_AMS",
        "outputId": "481e50d1-efc9-4e76-80ca-c2a7ed0c84b8",
        "colab": {
          "base_uri": "https://localhost:8080/"
        }
      },
      "execution_count": 10,
      "outputs": [
        {
          "output_type": "stream",
          "name": "stdout",
          "text": [
            "Input number between 1 and 100 102\n",
            "Number out of limits\n"
          ]
        }
      ]
    },
    {
      "cell_type": "markdown",
      "source": [
        "---\n",
        "### Exercise 5 - getting a menu choice  \n",
        "\n",
        "Write a function called **process_menu()** which will:\n",
        "\n",
        "*  print the following menu:  \n",
        "\n",
        "What value would you like to see?  \n",
        "\n",
        "1. Pi  \n",
        "2. Plank’s constant  \n",
        "3. E  \n",
        "4. Square root of 2  \n",
        "\n",
        "*  ask the user to choose a **menu_option**  \n",
        "*  if the `menu_option` chosen is not between 1 and 4, print \"Invalid choice\"  \n",
        "*  else print the number of the `menu_option` chosen\n",
        "\n",
        "Test input:  \n",
        "2  \n",
        "\n",
        "Expected output:  \n",
        "2  \n",
        "\n",
        "Test input:  \n",
        "5  \n",
        "\n",
        "Expected output:  \n",
        "Invalid choice"
      ],
      "metadata": {
        "id": "2uybulo7_AxA"
      }
    },
    {
      "cell_type": "code",
      "source": [
        "def process_menu():\n",
        "  menu_option = int(input('Input menu option from 1 to 4: '))\n",
        "  if menu_option == 1:\n",
        "    menu = 'Pi'\n",
        "  elif menu_option == 2:\n",
        "    menu = 'Planks constant'\n",
        "  elif menu_option == 3:\n",
        "    menu = 'E'\n",
        "  elif menu_option == 4:\n",
        "    menu = 'Square root of 2'\n",
        "  else:\n",
        "    menu = 'Invalid choice'\n",
        "  print(menu)\n",
        "\n",
        "process_menu()\n"
      ],
      "metadata": {
        "id": "TXPKKhAF_CQ2",
        "outputId": "06d40ce2-ec6a-4205-8d49-fe3d9d916fb6",
        "colab": {
          "base_uri": "https://localhost:8080/"
        }
      },
      "execution_count": 12,
      "outputs": [
        {
          "output_type": "stream",
          "name": "stdout",
          "text": [
            "Input menu option from 1 to 4: 5\n",
            "Invalid choice\n"
          ]
        }
      ]
    },
    {
      "cell_type": "markdown",
      "source": [
        "---\n",
        "### Exercise 6 - acting on menu choice  \n",
        "\n",
        "Write a function called **process_menu_options()** which will:  \n",
        "\n",
        "*  print the following menu:  \n",
        "\n",
        "What value would you like to see?  \n",
        "\n",
        "1. Pi  \n",
        "2. Plank’s constant  \n",
        "3. E  \n",
        "4. Square root of 2  \n",
        "\n",
        "*  ask the user to choose a **menu_option**  \n",
        "*  if the `menu_option` is 1 print 3.14159265359  \n",
        "*  otherwise (*elif*) the `menu_option` is 2 print 6.62607004 × 10-34 (in Python this would be written 6.62607004E-34  \n",
        "*  otherwise if the `menu_option` is 3 - print 2.71828  \n",
        "*  otherwise if the `menu_option` is 4 - print 1.414  \n",
        "*  otherwise if the `menu_option` is anything *else* - print \"Invalid choice\"  \n",
        "\n",
        "Test input:  \n",
        "1  \n",
        "\n",
        "Expected output:  \n",
        "3.14159265359\n",
        "\n",
        "Test input:  \n",
        "4  \n",
        "\n",
        "Expected output:  \n",
        "1.414  \n",
        "\n",
        "Test input:  \n",
        "9  \n",
        "\n",
        "Expected output:  \n",
        "Invalid choice\n"
      ],
      "metadata": {
        "id": "JU7C1jmp_DVa"
      }
    },
    {
      "cell_type": "code",
      "source": [
        "def process_menu_options():\n",
        "  menu_option = int(input('Input menu option from 1 to 4: '))\n",
        "  if menu_option == 1:\n",
        "    menu = 3.14\n",
        "  elif menu_option == 2:\n",
        "    menu = 6.6260700E-34\n",
        "  elif menu_option == 3:\n",
        "    menu = 2.71828\n",
        "  elif menu_option == 4:\n",
        "    menu = 1.414\n",
        "  else:\n",
        "    menu = 'Invalid choice'\n",
        "  print(menu)\n",
        "\n",
        "process_menu_options()\n",
        "\n"
      ],
      "metadata": {
        "id": "xdtGFXpz_E4U",
        "outputId": "fa0f6fd0-52e7-4159-c5e3-8125d268baaa",
        "colab": {
          "base_uri": "https://localhost:8080/"
        }
      },
      "execution_count": 13,
      "outputs": [
        {
          "output_type": "stream",
          "name": "stdout",
          "text": [
            "Input menu option from 1 to 4: 2\n",
            "6.62607e-34\n"
          ]
        }
      ]
    },
    {
      "cell_type": "markdown",
      "source": [
        "---\n",
        "### Exercise 7 - positive or negative\n",
        "\n",
        "Write a function called **report_pos_or_neg()** which will:  \n",
        "\n",
        "*  ask a user to input a **number**  \n",
        "*  if the `number` is greater than 0, print `number` \"is a positive number\"\n",
        "*  otherwise if it is less than 0 print `number` \"is a negative number  \n",
        "*  otherwise print `number` \"is neither positive or negative\"\n",
        "\n",
        "Test Inputs:  \n",
        "0  \n",
        "50  \n",
        "-50\n",
        "\n",
        "Expected outputs:\n",
        "0 is neither positive or negative  \n",
        "50 is a positive number  \n",
        "-50 is a negative number  "
      ],
      "metadata": {
        "id": "Id5iO-zx_Fwz"
      }
    },
    {
      "cell_type": "code",
      "source": [
        "def report_pos_or_neg():\n",
        "  number = int(input('Input a number '))\n",
        "  if number > 0:\n",
        "    sign = ' is a positive number'\n",
        "  elif number < 0:\n",
        "    sign = ' is a negative number'\n",
        "  else:\n",
        "    sign = ' is neither positive or negative'\n",
        "  print(number,sign)\n",
        "\n",
        "report_pos_or_neg()\n"
      ],
      "metadata": {
        "id": "rXwhB7qU_GfW",
        "outputId": "e0df3713-1381-49da-d519-aa98146c5d91",
        "colab": {
          "base_uri": "https://localhost:8080/"
        }
      },
      "execution_count": 21,
      "outputs": [
        {
          "output_type": "stream",
          "name": "stdout",
          "text": [
            "Input a number -20\n",
            "-20  is a negative number\n"
          ]
        }
      ]
    },
    {
      "cell_type": "markdown",
      "source": [
        "---\n",
        "### Exercise 8 - traffic light actions  \n",
        "\n",
        "Write a function called **act_on_light()** which will:\n",
        "\n",
        "*  ask the user to enter a traffic light **colour**  \n",
        "*  if the `colour` is \"red\" print the message \"Stop the car\"  \n",
        "*  otherwise if the `colour` is \"amber\" print the message \"Be ready to stop\"  \n",
        "*  otherwise if the `colour` is \"green\" print the message \"Continue forward\"  \n",
        "*  otherwise if the `colour` is \"red and amber\" print the message \"Get ready to go\"  \n",
        "*  otherwise print \"That is not a traffic light colour\"  \n",
        "\n",
        "Test inputs:  \n",
        "red  \n",
        "amber  \n",
        "red and amber  \n",
        "blue    \n",
        "\n",
        "Expected output:  \n",
        "Stop the car  \n",
        "Be ready to stop  \n",
        "Get ready to go  \n",
        "That is not a traffic light colour  "
      ],
      "metadata": {
        "id": "09hW8Uyl_Hb4"
      }
    },
    {
      "cell_type": "code",
      "source": [
        "def act_on_light():\n",
        "  colour = input('Input colour ')\n",
        "  if colour == 'amber':\n",
        "    message = 'Be ready to stop'\n",
        "  elif colour == 'green':\n",
        "    message = 'Continue forward'\n",
        "  elif colour == 'red and amber':\n",
        "    message = 'Get ready to go'\n",
        "  else:\n",
        "    message = 'That is not a traffic light colour'\n",
        "  print(message)\n",
        "\n",
        "act_on_light()\n",
        "\n"
      ],
      "metadata": {
        "id": "oLTVk8_u_IF2",
        "outputId": "b9697a8d-dfa7-4ce9-e0d6-6374e6a106b5",
        "colab": {
          "base_uri": "https://localhost:8080/"
        }
      },
      "execution_count": 24,
      "outputs": [
        {
          "output_type": "stream",
          "name": "stdout",
          "text": [
            "Input colour red and amber\n",
            "Get ready to go\n"
          ]
        }
      ]
    },
    {
      "cell_type": "markdown",
      "source": [
        "---\n",
        "### Exercise 9 - dealing with capitals\n",
        "\n",
        "Write a function called **check_capital()** which will:\n",
        "\n",
        "*  ask the user what is the **capital** city of Scotland  \n",
        "*  If they answer correctly (Edinburgh), tell them that they are correct, Edinburgh is the capital city. If they enter anything else, tell them \"No, Edinburgh is the capital city\"\n",
        "\n",
        "Test Inputs:  \n",
        "London  \n",
        "Edinburgh  \n",
        "edinburgh\n",
        "\n",
        "Expected output:\n",
        "No, Edinburgh is the capital city  \n",
        "You are correct, Edinburgh is the capital city  \n",
        "No, Edinburgh is the capital city  \n",
        "\n",
        "*(think about why it is likely that the output here is incorrect, and change the code to make it work)*"
      ],
      "metadata": {
        "id": "2OAuZiRL_If3"
      }
    },
    {
      "cell_type": "code",
      "source": [
        "def check_capital():\n",
        "  capital = input('What is the capital city of Scotland? ')\n",
        "  if capital == 'Edinburgh':\n",
        "    message = 'You are correct, Edinburgh is the capital city'\n",
        "  else:\n",
        "    message = 'No, Edinburgh is the capital city'\n",
        "  print(message)\n",
        "check_capital()"
      ],
      "metadata": {
        "id": "DSWaaPy2_J0F",
        "outputId": "4d49c924-7b39-4fea-a553-d058ab7a5dc9",
        "colab": {
          "base_uri": "https://localhost:8080/"
        }
      },
      "execution_count": 27,
      "outputs": [
        {
          "output_type": "stream",
          "name": "stdout",
          "text": [
            "What is the capital city of Scotland? London\n",
            "No, Edinburgh is the capital city\n"
          ]
        }
      ]
    },
    {
      "cell_type": "markdown",
      "source": [
        "---\n",
        "### Exercise 10 - calculator\n",
        "\n",
        "Write a function called **calculate()** which will:\n",
        "\n",
        "*  asks the user for 2 numbers (**num1** and **num2**) and an **operator** (+, -, /, *)\n",
        "\n",
        "Use *if* statements to allow the user to perform calculations on these 2 numbers and provide the answer in a print statement.\n",
        "\n",
        "Test Inputs:  \n",
        "num1 = 2, num2 = 3, operator = +  \n",
        "num1 = 2, num2 = 3, operator = -  \n",
        "num1 = 2, num2 = 3, operator = *  \n",
        "num1 = 2, num2 = 3, operator = /  \n",
        "\n",
        "Expected output:  \n",
        "Your answer is 5  \n",
        "Your answer is -1  \n",
        "Your answer is 6  \n",
        "Your answer is 0.6666666666  "
      ],
      "metadata": {
        "id": "6rM3WXMW_LJL"
      }
    },
    {
      "cell_type": "code",
      "source": [
        "def calculate():\n",
        "  x = int(input('Input number 1: '))\n",
        "  y = int(input('Input number 2: '))\n",
        "  operator = input('Input operator: ')\n",
        "  if operator == '-':\n",
        "    result = x-y\n",
        "  elif operator == '+':\n",
        "    result = x+y\n",
        "  elif operator == '*':\n",
        "    result = x*y\n",
        "  elif operator == '/':\n",
        "    result = x/y\n",
        "  elif operator == '%':\n",
        "   result = x%y\n",
        "  print('You answer is ',result)\n",
        "calculate()\n",
        ""
      ],
      "metadata": {
        "id": "8ElbRAlw_LoU",
        "colab": {
          "base_uri": "https://localhost:8080/"
        },
        "outputId": "f95a8347-4b32-430a-8481-86cd214e527d"
      },
      "execution_count": 28,
      "outputs": [
        {
          "output_type": "stream",
          "name": "stdout",
          "text": [
            "Input number 1: 2\n",
            "Input number 2: 3\n",
            "Input operator: /\n",
            "You answer is  0.6666666666666666\n"
          ]
        }
      ]
    }
  ]
}