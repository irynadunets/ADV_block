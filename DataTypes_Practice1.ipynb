{
  "nbformat": 4,
  "nbformat_minor": 0,
  "metadata": {
    "colab": {
      "provenance": []
    },
    "kernelspec": {
      "name": "python3",
      "display_name": "Python 3"
    },
    "language_info": {
      "name": "python"
    }
  },
  "cells": [
    {
      "cell_type": "markdown",
      "source": [
        "<a href=\"https://colab.research.google.com/github/StefanMeyer7/Python-Fundamentals/blob/main/DataTypes_Practice1.ipynb\" target=\"_parent\"><img src=\"https://colab.research.google.com/assets/colab-badge.svg\" alt=\"Open In Colab\"/></a>"
      ],
      "metadata": {
        "id": "hypbENCo_DGn"
      }
    },
    {
      "cell_type": "markdown",
      "source": [
        "# Data types and Variables\n",
        "---\n",
        "\n",
        "\n",
        "**Recap**: Variables can store data of different types.  \n",
        "*   **int** (whole numbers, e.g. 4, 523, 1984)  \n",
        "*   **float** (decimal numbers e.g. 4.3, )  \n",
        "*   **str** (strings of characters)  \n",
        "*   **bool** (True or False)  \n",
        "\n",
        "and can be stored in groups (**lists, tuples, dictionaries,** etc)\n",
        "\n",
        "You can '**assign**' a value to a variable using the **=** sign.\n",
        "\n",
        "Once a variable has been assigned a value it will decide what type it is from that value. For example:  \n",
        "firstname = “Monty”  \n",
        "age = 20  \n",
        "\n",
        "*firstname* is now a *str* variable (a string of characters) *age* is now an *int* variable (a whole number)  \n",
        "\n",
        "Once a variable knows its type you will only be able to use it for processes that are relevant to that type. For example, you won't be able to add firstname and age together because firstname is a word and age is a number. You would, however, be able to add 1 to the age  \n",
        "\n",
        "age = age + 1  \n",
        "\n",
        "age is now 1 bigger than it was before\n"
      ],
      "metadata": {
        "id": "mRyHu4xaxEoS"
      }
    },
    {
      "cell_type": "markdown",
      "source": [
        "## Using variables of different types and functions\n",
        "----\n",
        "### Exercise 1\n",
        "The cell below contains a function. Functions are named sets of instructions that do one particular thing, often creating a new set of data but sometimes just setting something up.  \n",
        "\n",
        "A function starts with the keyword def (short for define or definition). All instructions below the definition are indented and this indicates that they are part of that function. A function runs when its name is used outside the function (here it is not indented). The indentation is important, note where the code is and isn't indented.  \n",
        "\n",
        "*  create a variable called **name** and assign it a value (any name)  \n",
        "*  print the message “Hello” name  \n",
        "*  change the value of `name` and run the code again to get a new message"
      ],
      "metadata": {
        "id": "ocamkNCl6mvL"
      }
    },
    {
      "cell_type": "code",
      "source": [
        "def print_welcome():\n",
        "   # create the variable called name below here (indented like this line) and add the instruction print(\"Hello\",name)\n",
        "   name = 'Alina'\n",
        "   print('Hello ', name)\n",
        "\n",
        "print_welcome()"
      ],
      "metadata": {
        "id": "SQYzVslJ6qg0",
        "outputId": "9606fd14-6598-4fd7-f749-1db563bc63f7",
        "colab": {
          "base_uri": "https://localhost:8080/"
        }
      },
      "execution_count": 2,
      "outputs": [
        {
          "output_type": "stream",
          "name": "stdout",
          "text": [
            "Hello  Alina\n"
          ]
        }
      ]
    },
    {
      "cell_type": "markdown",
      "source": [],
      "metadata": {
        "id": "dizDkPd0xA4Y"
      }
    },
    {
      "cell_type": "markdown",
      "source": [
        "----\n",
        "### Exercise 2\n",
        "*  create two variables **num1** and **num2** and assign them each a whole number  \n",
        "*  create a third variable **total** which will store the sum of num1 + num2  \n",
        "*  run the code.  \n",
        "\n",
        "Change the value of one of the numbers and run the code again to get new messages and a new total."
      ],
      "metadata": {
        "id": "wHAxQz8V88HX"
      }
    },
    {
      "cell_type": "code",
      "source": [
        "def print_total():\n",
        "  # add your code below here\n",
        "  num1 = 10\n",
        "  num2 = 15\n",
        "  total = num1 + num2\n",
        "\n",
        "  print(num1, \"+\", num2, \"=\", total)\n",
        "\n",
        "print_total()"
      ],
      "metadata": {
        "id": "4giQISUx89DT",
        "outputId": "b82e3a54-f538-4edb-94c7-7a01c5c2030c",
        "colab": {
          "base_uri": "https://localhost:8080/"
        }
      },
      "execution_count": 3,
      "outputs": [
        {
          "output_type": "stream",
          "name": "stdout",
          "text": [
            "10 + 15 = 25\n"
          ]
        }
      ]
    },
    {
      "cell_type": "markdown",
      "source": [
        "---\n",
        "### Exercise 3 - variables of different types\n",
        "*  create a variable called **name** and assign it the value \"Billy\"  \n",
        "*  create a variable called **age** and assign it the value 18  \n",
        "*  print a message \"Hello `name` you are `age` years old\"\n",
        "\n",
        "Test input:  \n",
        "Billy  \n",
        "18  \n",
        "\n",
        "Expected output:  \n",
        "Hello Billy you are 18 years old"
      ],
      "metadata": {
        "id": "YCqs-6J28_0s"
      }
    },
    {
      "cell_type": "code",
      "source": [
        "def print_info():\n",
        "   # add your code below here\n",
        "   name = 'Billy'\n",
        "   age = 18\n",
        "   print('Hello ',name,'you are ',age,'years old')\n",
        "\n",
        "\n",
        "print_info()"
      ],
      "metadata": {
        "id": "LB_W_V3t9B8Y",
        "outputId": "781b83c9-0130-43a9-c372-91c2f55b33e1",
        "colab": {
          "base_uri": "https://localhost:8080/"
        }
      },
      "execution_count": 4,
      "outputs": [
        {
          "output_type": "stream",
          "name": "stdout",
          "text": [
            "Hello  Billy you are  18 years old\n"
          ]
        }
      ]
    },
    {
      "cell_type": "markdown",
      "source": [
        "---\n",
        "### Exercise 4 - float variables (and writing your own function)\n",
        "Write a function called **print_price()** which will:  \n",
        "\n",
        "*  create a variable called **product** and assign the value \"Chocolate Bar\"  \n",
        "*  create a variable called **cost** and assign the value 1.39  \n",
        "*  print the message `product`, \"costs\", \"£\", `cost`  \n",
        "\n",
        "Expected output:  \n",
        "Chocolate Bar costs £ 1.39"
      ],
      "metadata": {
        "id": "Rl6GHdk79K8i"
      }
    },
    {
      "cell_type": "code",
      "source": [
        "def print_price():\n",
        "  product = 'Chocolate Bar'\n",
        "  cost = 1.39\n",
        "  print(product, 'cost', cost,'£')\n",
        "print_price()"
      ],
      "metadata": {
        "id": "T_ybVS0e9Ms6",
        "outputId": "32eda31d-0ff3-4898-ac92-420b76240b3f",
        "colab": {
          "base_uri": "https://localhost:8080/"
        }
      },
      "execution_count": 7,
      "outputs": [
        {
          "output_type": "stream",
          "name": "stdout",
          "text": [
            "Chocolate Bar cost 1.39 £\n"
          ]
        }
      ]
    },
    {
      "cell_type": "markdown",
      "source": [
        "---\n",
        "### Exercise 5 - concatenating strings\n",
        "Write a function called **print_full_name()** which will:  \n",
        "\n",
        "*  create variable called **name** and assign it the value \"Monty\"  \n",
        "*  create a variable called **surname** and assign it the value \"Python\"  \n",
        "*  create a variable called **full_name** and assign it the value `name` + \" \" + `surname`  \n",
        "*  print the `full_name`  \n",
        "\n",
        "Expected output:  \n",
        "Monty Python"
      ],
      "metadata": {
        "id": "iBm2_y2U9RBW"
      }
    },
    {
      "cell_type": "code",
      "source": [
        "def print_full_name():\n",
        "  name = 'Monty'\n",
        "  surname = 'Python'\n",
        "  full_name = name + ' '+ surname\n",
        "  print(full_name)\n",
        "\n",
        "print_full_name()"
      ],
      "metadata": {
        "id": "J3j5BJHe9R3Z",
        "outputId": "600199a3-ec7a-470a-97e0-8d90af18a847",
        "colab": {
          "base_uri": "https://localhost:8080/"
        }
      },
      "execution_count": 9,
      "outputs": [
        {
          "output_type": "stream",
          "name": "stdout",
          "text": [
            "Monty Python\n"
          ]
        }
      ]
    }
  ]
}