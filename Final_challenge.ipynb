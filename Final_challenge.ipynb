{
  "nbformat": 4,
  "nbformat_minor": 0,
  "metadata": {
    "colab": {
      "provenance": [],
      "authorship_tag": "ABX9TyM39n5M89qjt6keNdGX99WZ",
      "include_colab_link": true
    },
    "kernelspec": {
      "name": "python3",
      "display_name": "Python 3"
    },
    "language_info": {
      "name": "python"
    }
  },
  "cells": [
    {
      "cell_type": "markdown",
      "metadata": {
        "id": "view-in-github",
        "colab_type": "text"
      },
      "source": [
        "<a href=\"https://colab.research.google.com/github/irynadunets/Introduction_to_Python/blob/master/Final_challenge.ipynb\" target=\"_parent\"><img src=\"https://colab.research.google.com/assets/colab-badge.svg\" alt=\"Open In Colab\"/></a>"
      ]
    },
    {
      "cell_type": "code",
      "execution_count": 5,
      "metadata": {
        "colab": {
          "base_uri": "https://localhost:8080/",
          "height": 53
        },
        "id": "hz7vvel7redP",
        "outputId": "7b0733b5-1d33-4f36-95a0-467b1680f549"
      },
      "outputs": [
        {
          "output_type": "stream",
          "name": "stdout",
          "text": [
            "Acme File System\n"
          ]
        },
        {
          "output_type": "display_data",
          "data": {
            "text/plain": [
              "<IPython.core.display.Javascript object>"
            ],
            "application/javascript": [
              "\n",
              "    async function download(id, filename, size) {\n",
              "      if (!google.colab.kernel.accessAllowed) {\n",
              "        return;\n",
              "      }\n",
              "      const div = document.createElement('div');\n",
              "      const label = document.createElement('label');\n",
              "      label.textContent = `Downloading \"${filename}\": `;\n",
              "      div.appendChild(label);\n",
              "      const progress = document.createElement('progress');\n",
              "      progress.max = size;\n",
              "      div.appendChild(progress);\n",
              "      document.body.appendChild(div);\n",
              "\n",
              "      const buffers = [];\n",
              "      let downloaded = 0;\n",
              "\n",
              "      const channel = await google.colab.kernel.comms.open(id);\n",
              "      // Send a message to notify the kernel that we're ready.\n",
              "      channel.send({})\n",
              "\n",
              "      for await (const message of channel.messages) {\n",
              "        // Send a message to notify the kernel that we're ready.\n",
              "        channel.send({})\n",
              "        if (message.buffers) {\n",
              "          for (const buffer of message.buffers) {\n",
              "            buffers.push(buffer);\n",
              "            downloaded += buffer.byteLength;\n",
              "            progress.value = downloaded;\n",
              "          }\n",
              "        }\n",
              "      }\n",
              "      const blob = new Blob(buffers, {type: 'application/binary'});\n",
              "      const a = document.createElement('a');\n",
              "      a.href = window.URL.createObjectURL(blob);\n",
              "      a.download = filename;\n",
              "      div.appendChild(a);\n",
              "      a.click();\n",
              "      div.remove();\n",
              "    }\n",
              "  "
            ]
          },
          "metadata": {}
        },
        {
          "output_type": "display_data",
          "data": {
            "text/plain": [
              "<IPython.core.display.Javascript object>"
            ],
            "application/javascript": [
              "download(\"download_a8aa2cd1-47f1-4fab-8c0c-6c99a7a724d6\", \"\", 4096)"
            ]
          },
          "metadata": {}
        }
      ],
      "source": [
        "import zipfile as zf\n",
        "import os, sys\n",
        "from distutils import dir_util\n",
        "from shutil import make_archive\n",
        "from google.colab import files\n",
        "import shutil\n",
        "\n",
        "def upload():\n",
        "  files = zf.ZipFile(\"/content/Acme File System.zip\", 'r')\n",
        "  files.extractall('/content/test')\n",
        "  files.close()\n",
        "\n",
        "def print_list_files(path):\n",
        "  folder = os.listdir( path )\n",
        "  for file in folder:\n",
        "    print(file)\n",
        "\n",
        "def remove_copy(path):\n",
        "  word = 'Copy'\n",
        "  for root, dirs, files in os.walk(path):\n",
        "    for file in files:\n",
        "      if word in file:\n",
        "        os.remove(os.path.join(root, file))\n",
        "\n",
        "def rename_files(path):\n",
        "  months = ['January', 'February', 'Mar', 'April', 'May', 'June', 'July', 'August', 'September', 'October', 'November', 'December']\n",
        "  for root, dirs, files in os.walk(path):\n",
        "    for file in files:\n",
        "      for x in months:\n",
        "        if x in file:\n",
        "          fl = os.path.join(root, file)\n",
        "          os.rename(fl, fl.replace(x, str(months.index(x))))\n",
        "\n",
        "def replace_spaces(path):\n",
        "  spaces = ' '\n",
        "  for root, dirs, files in os.walk(path):\n",
        "    for file in files:\n",
        "        if spaces in file:\n",
        "          os.rename(os.path.join(root, file), os.path.join(root, file.replace(spaces,'_')))\n",
        "\n",
        "def make_backup():\n",
        "  dir_util.copy_tree(\"/content/test/\", \"/content/test backing_up/\")\n",
        "\n",
        "\n",
        "def zip_download():\n",
        "  shutil.make_archive(\"/content/test backing_up_zip/\", 'zip', \"/content/test backing_up/\")\n",
        "  files.download(\"/content/test backing_up_zip/\")\n",
        "\n",
        "def clean_up():\n",
        "  upload()\n",
        "  path = '/content/test'\n",
        "  print_list_files(path)\n",
        "  remove_copy(path)\n",
        "  rename_files(path)\n",
        "  replace_spaces(path)\n",
        "  make_backup()\n",
        "  zip_download()\n",
        "\n",
        "clean_up()\n",
        "\n",
        "\n",
        "\n",
        "\n"
      ]
    }
  ]
}