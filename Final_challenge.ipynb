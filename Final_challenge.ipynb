{
  "nbformat": 4,
  "nbformat_minor": 0,
  "metadata": {
    "colab": {
      "provenance": [],
      "authorship_tag": "ABX9TyM39n5M89qjt6keNdGX99WZ",
      "include_colab_link": true
    },
    "kernelspec": {
      "name": "python3",
      "display_name": "Python 3"
    },
    "language_info": {
      "name": "python"
    }
  },
  "cells": [
    {
      "cell_type": "markdown",
      "metadata": {
        "id": "view-in-github",
        "colab_type": "text"
      },
      "source": [
        "<a href=\"https://colab.research.google.com/github/irynadunets/Introduction_to_Python/blob/master/Final_challenge.ipynb\" target=\"_parent\"><img src=\"https://colab.research.google.com/assets/colab-badge.svg\" alt=\"Open In Colab\"/></a>"
      ]
    },
    {
      "cell_type": "code",
      "execution_count": null,
      "metadata": {
        "id": "hz7vvel7redP"
      },
      "outputs": [],
      "source": [
        "import zipfile as zf\n",
        "import os, sys\n",
        "from distutils import dir_util\n",
        "from shutil import make_archive\n",
        "from google.colab import files\n",
        "import shutil\n",
        "\n",
        "def upload():\n",
        "  files = zf.ZipFile(\"/content/Acme File System.zip\", 'r')\n",
        "  files.extractall('/content/test')\n",
        "  files.close()\n",
        "\n",
        "def print_list_files(path):\n",
        "  folder = os.listdir( path )\n",
        "  for file in folder:\n",
        "    print(file)\n",
        "\n",
        "def remove_copy(path):\n",
        "  word = 'Copy'\n",
        "  for root, dirs, files in os.walk(path):\n",
        "    for file in files:\n",
        "      if word in file:\n",
        "        os.remove(os.path.join(root, file))\n",
        "\n",
        "def rename_files(path):\n",
        "  months = ['January', 'February', 'Mar', 'April', 'May', 'June', 'July', 'August', 'September', 'October', 'November', 'December']\n",
        "  for root, dirs, files in os.walk(path):\n",
        "    for file in files:\n",
        "      for x in months:\n",
        "        if x in file:\n",
        "          fl = os.path.join(root, file)\n",
        "          os.rename(fl, fl.replace(x, str(months.index(x))))\n",
        "\n",
        "def replace_spaces(path):\n",
        "  spaces = ' '\n",
        "  for root, dirs, files in os.walk(path):\n",
        "    for file in files:\n",
        "        if spaces in file:\n",
        "          os.rename(os.path.join(root, file), os.path.join(root, file.replace(spaces,'_')))\n",
        "\n",
        "def make_backup():\n",
        "  dir_util.copy_tree(\"/content/test/\", \"/content/test backing_up/\")\n",
        "\n",
        "\n",
        "def zip_download():\n",
        "  shutil.make_archive(\"/content/test backing_up_zip/\", 'zip', \"/content/test backing_up/\")\n",
        "  files.download(\"/content/test backing_up_zip/\")\n",
        "\n",
        "def clean_up():\n",
        "  upload()\n",
        "  path = '/content/test'\n",
        "  print_list_files(path)\n",
        "  remove_copy(path)\n",
        "  rename_files(path)\n",
        "  replace_spaces(path)\n",
        "  make_backup()\n",
        "  zip_download()\n",
        "\n",
        "clean_up()\n",
        "\n",
        "\n",
        "\n",
        "\n"
      ]
    }
  ]
}