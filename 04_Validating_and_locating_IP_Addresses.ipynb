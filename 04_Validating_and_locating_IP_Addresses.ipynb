{
  "nbformat": 4,
  "nbformat_minor": 0,
  "metadata": {
    "colab": {
      "provenance": [],
      "include_colab_link": true
    },
    "kernelspec": {
      "name": "python3",
      "display_name": "Python 3"
    },
    "language_info": {
      "name": "python"
    }
  },
  "cells": [
    {
      "cell_type": "markdown",
      "metadata": {
        "id": "view-in-github",
        "colab_type": "text"
      },
      "source": [
        "<a href=\"https://colab.research.google.com/github/irynadunets/Introduction_to_Python/blob/master/04_Validating_and_locating_IP_Addresses.ipynb\" target=\"_parent\"><img src=\"https://colab.research.google.com/assets/colab-badge.svg\" alt=\"Open In Colab\"/></a>"
      ]
    },
    {
      "cell_type": "markdown",
      "source": [
        "# IP address validation and location checking\n",
        "---\n",
        "\n",
        "Checking the validity of an IP address will help to ensure that packets of data are going to a real address (not necessarily a safe address but a real one).\n",
        "\n",
        "Checking the location of the IP address will help to identify where packets might be coming from or going to.\n",
        "\n",
        "There are a number of Python libraries and services available to help with this.  Abstract API is one and will allow you to get an API key and make a small number of requests on a free account."
      ],
      "metadata": {
        "id": "iRv22j9XjTMO"
      }
    },
    {
      "cell_type": "markdown",
      "source": [
        "### Read the tutorial and have a go\n",
        "---\n",
        "\n",
        "Use this tutorial about checking IP addresses and using AbstractAPI to geolocate them https://www.abstractapi.com/guides/validate-ip-address-python to help you to complete the following exercises."
      ],
      "metadata": {
        "id": "2gwb2s9BkQv9"
      }
    },
    {
      "cell_type": "markdown",
      "source": [
        "### Exercise 1 - Check IP address is valid\n",
        "---\n",
        "\n",
        "Follow the information and write a function that will validate a given IP address.  \n",
        "\n",
        "Test 1:  Use the localhost address 127.0.0.1   \n",
        "Test 2:  Use 127.1000.0.1   \n",
        "Test 3: Use the IPv6 address in the tutorial \"2001:0db8:75a2:0000:0000:8a2e:0340:5625\"   \n",
        "Test 4: Use \"2001:0db8:75a2:00100:0000:8a2e:0340:5625\"\n",
        "Test 5:  Use the public facing IPv4 address of your device/network (you can get this https://whatismyipaddress.com/ )\n",
        "\n",
        "Your function WILL:  \n",
        "*  take the IP address string as a parameter\n",
        "*  deal with exceptions to prevent an error for a non-valid address\n",
        "*  your function will return True if the ip address is valid and False if there was an exception\n",
        "\n"
      ],
      "metadata": {
        "id": "MAIuLQmvXmoR"
      }
    },
    {
      "cell_type": "code",
      "source": [
        "import ipaddress\n",
        "\n",
        "def check_IP(ip):\n",
        "   try:\n",
        "        ipaddress.ip_address(ip)\n",
        "        print(\"Valid IP address\")\n",
        "   except ValueError:\n",
        "          print(\"Invalid IP address\")\n",
        "\n",
        "\n",
        "check_IP(\"2001:0db8:75a2:0000:0000:8a2e:0340:5625\")\n",
        "check_IP(\"192.168.0.1\")\n",
        "check_IP(\"366.2.1.1\")\n",
        "check_IP(\"2.1.1\")\n"
      ],
      "metadata": {
        "id": "O2RsErjfbbpE",
        "outputId": "c2b78a87-597d-4802-d475-4e75004fc764",
        "colab": {
          "base_uri": "https://localhost:8080/"
        }
      },
      "execution_count": null,
      "outputs": [
        {
          "output_type": "stream",
          "name": "stdout",
          "text": [
            "Valid IP address\n",
            "Valid IP address\n",
            "Invalid IP address\n",
            "Invalid IP address\n"
          ]
        }
      ]
    },
    {
      "cell_type": "markdown",
      "source": [
        "### Exercise 2 - Check an IP address format using regular expressions\n",
        "---\n",
        "\n",
        "Regular expressions are used to check the format of a piece of data where there is a known format, such as an email address, a domain name, an IP address.\n",
        "\n",
        "Follow the tutorial to learn how to use regular expressions to check an IPv4 or an IPv6 address for its format.\n",
        "\n",
        "\n",
        "\n",
        "\n",
        "\n",
        "*   Write a function to check an IPv4 address and return True if valid or False if not.\n",
        "*   Write a function to check an IPv6 address and return True if valid or False is not.\n",
        "*  Combine the two functions into one that will be given an IP address and a standard (e.g. '127.0.0.1', 'IPv6') or (e.g.   '127.0.0.1', 6)\n",
        "\n",
        "\n",
        "\n"
      ],
      "metadata": {
        "id": "hQx--B5rzDql"
      }
    },
    {
      "cell_type": "code",
      "source": [
        "import re\n",
        "\n",
        "def check_IP(ip):\n",
        "  match1 = re.match(r\"^(([0-9])|([1-9][0-9])|(1([0-9]{2}))|(2[0-4][0-9])|(25[0-5]))((\\.(([0-9])|([1-9][0-9])|(1([0-9]{2}))|(2[0-4][0-9])|(25[0-5]))){3})$\", ip)\n",
        "  match2 = re.match(r\"(([0-9a-fA-F]{0,4}:){1,7}[0-9a-fA-F]{0,4})\", ip)\n",
        "  if match1 or match2:\n",
        "    print(\"Valid IP address\")\n",
        "  else:\n",
        "    print(\"Invalid IP address\")\n",
        "\n",
        "\n",
        "check_IP(\"2001:0db8:75a2:0000:0000:8a2e:0340:5625\")\n",
        "check_IP(\"192.168.0.1\")\n",
        "check_IP(\"366.2.1.1\")\n",
        "check_IP(\"2.1.1\")"
      ],
      "metadata": {
        "id": "UIBZc7pRO2oy",
        "outputId": "f1a8c354-ff6e-4c02-dc4d-17d81a10339f",
        "colab": {
          "base_uri": "https://localhost:8080/"
        }
      },
      "execution_count": null,
      "outputs": [
        {
          "output_type": "stream",
          "name": "stdout",
          "text": [
            "Valid IP address\n",
            "Valid IP address\n",
            "Invalid IP address\n",
            "Invalid IP address\n"
          ]
        }
      ]
    },
    {
      "cell_type": "markdown",
      "source": [
        "### Exercise 3 - Get and store an API key for IP geolocation\n",
        "---\n",
        "\n",
        "If you are happy to do so, **sign up for an API key from Abstract** https://www.abstractapi.com/.  This will allow you to request  a check on an IP address and to get the location of the network with that address.  \n",
        "\n",
        "Click on **Start for Free** to set up a free account.  \n",
        "\n",
        "Once you have created an account with Abstract you will have an **API key**, which you will be able to access as long as you are logged into the Abstract site.   \n",
        "\n",
        "\n",
        "Use the notebook's operating system and the `python-dotenv` library to set an environment variable called `API_KEY` and to store the key in that environment variable.  This will ensure that you do not upload the worksheet to your Github repository with the key on display.\n",
        "\n",
        "Refer to the [Caesar Cipher](https://github.com/futureCodersSE/python-cyber/blob/main/01_Cryptography_Caesar_cipher.ipynb) worksheet section **Keeping Secret Keys secret** for help with this."
      ],
      "metadata": {
        "id": "IAFnJZeSd647"
      }
    },
    {
      "cell_type": "code",
      "source": [
        "!pip install python-dotenv\n",
        "\n",
        "from dotenv import load_dotenv\n",
        "import os\n",
        "\n",
        "os.environ['API_key'] = \"258509975a854ed69e499cc63a290ee6\"\n",
        "\n",
        "load_dotenv()\n",
        "\n",
        "API_key  = os.getenv(\"API_key\")\n",
        "\n",
        "def myAPI_key():\n",
        "    print(f'API_key is: {API_key}.')\n",
        "\n",
        "myAPI_key()"
      ],
      "metadata": {
        "id": "y1bPMLSDen1E",
        "outputId": "4d42e3b7-b0d3-4ae9-ef2d-acbaad0c6042",
        "colab": {
          "base_uri": "https://localhost:8080/"
        }
      },
      "execution_count": 13,
      "outputs": [
        {
          "output_type": "stream",
          "name": "stdout",
          "text": [
            "Requirement already satisfied: python-dotenv in /usr/local/lib/python3.10/dist-packages (1.0.0)\n",
            "API_key is: 258509975a854ed69e499cc63a290ee6.\n"
          ]
        }
      ]
    },
    {
      "cell_type": "code",
      "source": [],
      "metadata": {
        "id": "fGO33ums72q1"
      },
      "execution_count": null,
      "outputs": []
    },
    {
      "cell_type": "markdown",
      "source": [
        "### Exercise 4 - geolocate a network from its IP address\n",
        "---\n",
        "\n",
        "Follow the Abstract tutorial again to write a function that will geo-locate a network from its IP address.\n",
        "\n",
        "You will need to import the *requests* library and you will find it useful to import the *json* library and use *json.loads(response.content)* to turn the response into a dictionary object."
      ],
      "metadata": {
        "id": "Zj01LqvQtCZ6"
      }
    },
    {
      "cell_type": "code",
      "source": [
        "from dotenv import load_dotenv\n",
        "import os\n",
        "import requests\n",
        "import json\n",
        "\n",
        "def geolocate_from_IP(ip):\n",
        "\n",
        " load_dotenv()\n",
        " API_key  = os.getenv(\"API_key\")\n",
        "\n",
        " response = requests.get(f\"https://ipgeolocation.abstractapi.com/v1/?api_key={API_key}&ip_address={ip}\")\n",
        " print(json.loads(response.content))\n",
        "\n",
        "geolocate_from_IP(\"188.30.56.222\")"
      ],
      "metadata": {
        "id": "ExHs8ET5fKmy",
        "outputId": "d68dc4f8-3e47-4ceb-d8cf-71da2b555c61",
        "colab": {
          "base_uri": "https://localhost:8080/"
        }
      },
      "execution_count": 32,
      "outputs": [
        {
          "output_type": "stream",
          "name": "stdout",
          "text": [
            "{'ip_address': '188.30.56.222', 'city': 'Glasgow', 'city_geoname_id': 2648579, 'region': 'Scotland', 'region_iso_code': 'SCT', 'region_geoname_id': 2638360, 'postal_code': 'G3', 'country': 'United Kingdom', 'country_code': 'GB', 'country_geoname_id': 2635167, 'country_is_eu': False, 'continent': 'Europe', 'continent_code': 'EU', 'continent_geoname_id': 6255148, 'longitude': -4.2621, 'latitude': 55.867, 'security': {'is_vpn': False}, 'timezone': {'name': 'Europe/London', 'abbreviation': 'GMT', 'gmt_offset': 0, 'current_time': '22:29:45', 'is_dst': False}, 'flag': {'emoji': '🇬🇧', 'unicode': 'U+1F1EC U+1F1E7', 'png': 'https://static.abstractapi.com/country-flags/GB_flag.png', 'svg': 'https://static.abstractapi.com/country-flags/GB_flag.svg'}, 'currency': {'currency_name': 'Sterling', 'currency_code': 'GBP'}, 'connection': {'autonomous_system_number': 206067, 'autonomous_system_organization': 'Three', 'connection_type': 'Cellular', 'isp_name': 'Hutchison 3G UK Ltd', 'organization_name': 'Mobile Broadband H3G Network Transformation'}}\n"
          ]
        }
      ]
    }
  ]
}