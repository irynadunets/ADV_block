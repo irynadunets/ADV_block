{
  "nbformat": 4,
  "nbformat_minor": 0,
  "metadata": {
    "colab": {
      "provenance": [],
      "include_colab_link": true
    },
    "kernelspec": {
      "name": "python3",
      "display_name": "Python 3"
    },
    "language_info": {
      "name": "python"
    }
  },
  "cells": [
    {
      "cell_type": "markdown",
      "metadata": {
        "id": "view-in-github",
        "colab_type": "text"
      },
      "source": [
        "<a href=\"https://colab.research.google.com/github/irynadunets/Introduction_to_Python/blob/master/Cloud/Using_Google_maps.ipynb\" target=\"_parent\"><img src=\"https://colab.research.google.com/assets/colab-badge.svg\" alt=\"Open In Colab\"/></a>"
      ]
    },
    {
      "cell_type": "markdown",
      "source": [
        "# Send request to Google Maps API\n",
        "---\n",
        "\n",
        "Sign up to Google Maps API to get an API key\n",
        "\n",
        "Restrict its use to HTTP Referrers -> google.com  \n",
        "\n",
        "Store the API key in an environment variable"
      ],
      "metadata": {
        "id": "YyVc5tW7le57"
      }
    },
    {
      "cell_type": "code",
      "execution_count": 1,
      "metadata": {
        "id": "E01XbQiXlbXZ"
      },
      "outputs": [],
      "source": [
        "import os\n",
        "from google.colab import output\n",
        "\n",
        "key = input(\"Enter the API key: \")\n",
        "os.environ['API_KEY'] = key\n",
        "output.clear()"
      ]
    },
    {
      "cell_type": "markdown",
      "source": [
        "### Import the googlemaps library and get a client for accessing the API functions.\n",
        "---\n",
        "You will need to create a client using the API key to create a session for communication with the API.  Once you have a client, it will run the functions for you."
      ],
      "metadata": {
        "id": "lKzN2b9u3ZYP"
      }
    },
    {
      "cell_type": "code",
      "source": [
        "!pip install googlemaps\n",
        "import googlemaps\n",
        "\n",
        "gmaps = googlemaps.Client(os.environ.get('API_KEY'))"
      ],
      "metadata": {
        "id": "r-VgZGNf4H5W",
        "outputId": "134fcc06-3854-4bb7-af53-491bf4ae29b8",
        "colab": {
          "base_uri": "https://localhost:8080/"
        }
      },
      "execution_count": 2,
      "outputs": [
        {
          "output_type": "stream",
          "name": "stdout",
          "text": [
            "Collecting googlemaps\n",
            "  Downloading googlemaps-4.10.0.tar.gz (33 kB)\n",
            "  Preparing metadata (setup.py) ... \u001b[?25l\u001b[?25hdone\n",
            "Requirement already satisfied: requests<3.0,>=2.20.0 in /usr/local/lib/python3.10/dist-packages (from googlemaps) (2.31.0)\n",
            "Requirement already satisfied: charset-normalizer<4,>=2 in /usr/local/lib/python3.10/dist-packages (from requests<3.0,>=2.20.0->googlemaps) (3.3.2)\n",
            "Requirement already satisfied: idna<4,>=2.5 in /usr/local/lib/python3.10/dist-packages (from requests<3.0,>=2.20.0->googlemaps) (3.6)\n",
            "Requirement already satisfied: urllib3<3,>=1.21.1 in /usr/local/lib/python3.10/dist-packages (from requests<3.0,>=2.20.0->googlemaps) (2.0.7)\n",
            "Requirement already satisfied: certifi>=2017.4.17 in /usr/local/lib/python3.10/dist-packages (from requests<3.0,>=2.20.0->googlemaps) (2024.2.2)\n",
            "Building wheels for collected packages: googlemaps\n",
            "  Building wheel for googlemaps (setup.py) ... \u001b[?25l\u001b[?25hdone\n",
            "  Created wheel for googlemaps: filename=googlemaps-4.10.0-py3-none-any.whl size=40711 sha256=9044ed00622534da900b9b5c778635a3fa983110e66959dfa692721ab692315b\n",
            "  Stored in directory: /root/.cache/pip/wheels/17/f8/79/999d5d37118fd35d7219ef57933eb9d09886c4c4503a800f84\n",
            "Successfully built googlemaps\n",
            "Installing collected packages: googlemaps\n",
            "Successfully installed googlemaps-4.10.0\n"
          ]
        }
      ]
    },
    {
      "cell_type": "markdown",
      "source": [
        "### Get a list of schools within a radius of 4km and co-ordinates latitude 55.816555 and longitude -4.309890\n",
        "---\n",
        "\n",
        "Use the code below to work out the requirements for the **nearby** function."
      ],
      "metadata": {
        "id": "PhQvDM6DZ8bs"
      }
    },
    {
      "cell_type": "code",
      "source": [
        "try:\n",
        "  places_result  = gmaps.places_nearby(location=\"55.816555,-4.309890\", radius = 4000, type = \"school\")\n",
        "  for place in places_result['results']:\n",
        "    print(place['name'])\n",
        "except Exception as e:\n",
        "  print(\"Error: \" + str(e))"
      ],
      "metadata": {
        "id": "eCGl0184aUUX",
        "outputId": "db35b62b-b9f7-49a4-bccc-fc8fd989efa2",
        "colab": {
          "base_uri": "https://localhost:8080/"
        }
      },
      "execution_count": 4,
      "outputs": [
        {
          "output_type": "stream",
          "name": "stdout",
          "text": [
            "Hutchesons' Grammar School\n",
            "Eastwood High School\n",
            "Glasgow Club Bellahouston\n",
            "Bellahouston Academy\n",
            "Pro-Soccer\n",
            "St Vincent’s Primary School\n",
            "Cleeves Primary School\n",
            "Thornliebank Primary School\n",
            "Our Lady of the Mission Primary School\n",
            "Hillpark Autism Unit\n",
            "Fotheringay Centre\n",
            "Animal Man Parties\n",
            "Woodland Outdoor Kindergartens\n",
            "Kumon Maths & English\n",
            "Carmichael Nursery School\n",
            "Wendy King\n",
            "Burnbrae Children's Centre\n",
            "Zippytotz\n",
            "Tinto Primary School\n",
            "St Vincent's Autism Unit Co St Vincent's Primary\n"
          ]
        }
      ]
    },
    {
      "cell_type": "markdown",
      "source": [
        "### Find out more about the Nearby API\n",
        "\n",
        "**Reference**:  https://developers.google.com/maps/documentation/places/web-service/nearby-search?_gl=1*178u4zu*_ga*MTQ2OTYwNjQyMy4xNzA3NjkzNjk1*_ga_NRWSTWS78N*MTcwNzY5MzY4My4yLjEuMTcwNzY5Mzc0My4wLjAuMA.."
      ],
      "metadata": {
        "id": "x_ZKpIH2eJZc"
      }
    }
  ]
}