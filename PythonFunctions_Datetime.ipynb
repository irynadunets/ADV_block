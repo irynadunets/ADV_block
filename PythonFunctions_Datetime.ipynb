{
  "cells": [
    {
      "cell_type": "markdown",
      "metadata": {
        "id": "Vvcpt-18AqVE"
      },
      "source": [
        "<a href=\"https://colab.research.google.com/github/StefanMeyer7/Python-Fundamentals/blob/main/PythonFunctions_Datetime.ipynb\" target=\"_parent\"><img src=\"https://colab.research.google.com/assets/colab-badge.svg\" alt=\"Open In Colab\"/></a>"
      ]
    },
    {
      "cell_type": "markdown",
      "metadata": {
        "id": "nP_edUEZceHu"
      },
      "source": [
        "# User-defined functions using datetime library\n",
        "\n",
        "---\n"
      ]
    },
    {
      "cell_type": "markdown",
      "metadata": {
        "id": "GDXBwTsRceya"
      },
      "source": [
        "When working with dates and times, fairly common in data sets, we need to be able to extract certain bits of information.  \n",
        "\n",
        "In Python, as with other languages, dates and times are stored in a data structure that combines the two together and stores the information as a number of seconds since a start point (often 1st January 1900).  This is obviously a large number but every bit of information about a date can be extracted from it and used to give a wide range of information.  \n",
        "\n",
        "Have a go at the exercises below to use a selection of datetime functions and return a new bit of data from each, to be printed by the caller.\n",
        "\n",
        "Before you can use datetime functions you will need to import them. Import the datetime functions like this:\n",
        "\n",
        "`from datetime import datetime`  \n",
        "\n",
        "\n",
        "For more information about datetime functions visit [w3Schools-Python datetime](https://www.w3schools.com/python/python_datetime.asp) and [Python docs](https://docs.python.org/3/library/datetime.html)"
      ]
    },
    {
      "cell_type": "markdown",
      "metadata": {
        "id": "rzT7PoS9cgpc"
      },
      "source": [
        "---\n",
        "### Exercise 1 - print current date and time\n",
        "\n",
        "Write a function that will return the date and time now.  The caller will print it.  \n",
        "\n",
        "*Hint:  the format has been added for you, the other exercises will follow a similar format.   Always remember to import datetime from datetime as shown below*"
      ]
    },
    {
      "cell_type": "code",
      "execution_count": 2,
      "metadata": {
        "id": "pbPPKT1DciHO",
        "outputId": "f54e3344-c924-4d3d-8251-56dca24defbf",
        "colab": {
          "base_uri": "https://localhost:8080/"
        }
      },
      "outputs": [
        {
          "output_type": "stream",
          "name": "stdout",
          "text": [
            "2023-11-22 15:07:39.447186\n"
          ]
        }
      ],
      "source": [
        "from datetime import datetime, timezone\n",
        "# add your function, called get_datetime_now() below here\n",
        "def get_datetime_now():\n",
        "  return datetime.today()\n",
        "\n",
        "\n",
        "now_date_time = get_datetime_now()\n",
        "print(now_date_time)"
      ]
    },
    {
      "cell_type": "markdown",
      "metadata": {
        "id": "-Ep29Zcqcj2J"
      },
      "source": [
        "---\n",
        "Exercise 2 - print the current year\n",
        "\n",
        "Write a function that will return the current year.  The caller will print the year."
      ]
    },
    {
      "cell_type": "code",
      "execution_count": 3,
      "metadata": {
        "id": "mvG4Fc4GcklO",
        "outputId": "3a75c354-b964-41f9-feb8-649d81fa0e24",
        "colab": {
          "base_uri": "https://localhost:8080/"
        }
      },
      "outputs": [
        {
          "output_type": "stream",
          "name": "stdout",
          "text": [
            "2023\n"
          ]
        }
      ],
      "source": [
        "from datetime import datetime, timezone\n",
        "# add your function, called get_datetime_now() below here\n",
        "def get_year_now():\n",
        "  return datetime.today().year\n",
        "\n",
        "\n",
        "now_date_year = get_year_now()\n",
        "print(now_date_year)"
      ]
    },
    {
      "cell_type": "markdown",
      "metadata": {
        "id": "AVu3ZVE3cljj"
      },
      "source": [
        "---\n",
        "### Exercise 3 - print the current day of the week\n",
        "\n",
        "Write a function that will return the current day of the week.  The caller will print it."
      ]
    },
    {
      "cell_type": "code",
      "execution_count": 5,
      "metadata": {
        "id": "YGdApxsLcmSS",
        "outputId": "46d48da3-e961-481c-ca97-8e23d588cf03",
        "colab": {
          "base_uri": "https://localhost:8080/"
        }
      },
      "outputs": [
        {
          "output_type": "stream",
          "name": "stdout",
          "text": [
            "Wednesday\n"
          ]
        }
      ],
      "source": [
        "from datetime import datetime, timezone\n",
        "# add your function, called get_datetime_now() below here\n",
        "def get_dayof_week_now():\n",
        "  return datetime.today().strftime('%A')\n",
        "\n",
        "\n",
        "now_date_day = get_dayof_week_now()\n",
        "print(now_date_day)"
      ]
    },
    {
      "cell_type": "markdown",
      "metadata": {
        "id": "PkkISgZscnZ3"
      },
      "source": [
        "---\n",
        "### Exercise 4 - create a new date\n",
        "\n",
        "Write a function that will take 3 parameters, day, month, year (3 numbers that make a valid date) and will create, and return a new date.  The caller will print the date."
      ]
    },
    {
      "cell_type": "code",
      "execution_count": null,
      "metadata": {
        "id": "7XXYuEhDcnz7"
      },
      "outputs": [],
      "source": []
    },
    {
      "cell_type": "markdown",
      "metadata": {
        "id": "LGb976a3coqq"
      },
      "source": [
        "---\n",
        "### Exercise 5 - create a valid date\n",
        "\n",
        "Write a function that will take 3 parameters, day, month, year (3 numbers) and will:  \n",
        "*   check that the month is between 1 and 12  \n",
        "*   check that the day is valid for the month (e.g. if the month is 2, then the day must be between 1 and 28 (don't worry about leap years for the moment)  \n",
        "*   if the date is not valid, print an error message and return None (which the caller will print)  \n",
        "*   if the date is valid, store it in a new variable, return the variable and the caller will print it."
      ]
    },
    {
      "cell_type": "code",
      "execution_count": null,
      "metadata": {
        "id": "63Z80bSocpFc"
      },
      "outputs": [],
      "source": []
    },
    {
      "cell_type": "markdown",
      "metadata": {
        "id": "R5ZBHZXScqYQ"
      },
      "source": [
        "---\n",
        "### Exercise 6 - is it a leap year?\n",
        "\n",
        "Write a function that will take a date as a parameter (you will need to create the date variable before calling the function) and will determine if it is a leap year, returning True or False.\n",
        "\n",
        "*Hint:  a leap year is a year that is divisible by 4 but the centuries (1900, 2000, etc are only leap years if they are divisible by 400)*"
      ]
    },
    {
      "cell_type": "code",
      "execution_count": null,
      "metadata": {
        "id": "pj8Y8PAqcq4u"
      },
      "outputs": [],
      "source": [
        "from datetime import datetime\n",
        "def is_leap_year(date_to_check):\n",
        "  # add your code below here\n",
        "\n",
        "\n",
        "\n",
        "\n",
        "check_date = datetime(1996, 12, 15)\n",
        "if is_leap_year(check_date):\n",
        "  print(check_date.strftime(\"%Y\"), \"is a leap year\")\n",
        "else:\n",
        "  print(check_date.strftime(\"%Y\"), \"is not a leap year\")"
      ]
    },
    {
      "cell_type": "markdown",
      "metadata": {
        "id": "7SIry7OwcuMS"
      },
      "source": [
        "---\n",
        "### Exercise 7 - display parts of date/time\n",
        "\n",
        "Write a function that will take a date and print from it the following:  \n",
        "*  given date and time  \n",
        "*  year (in full)\n",
        "*  month (as a number)\n",
        "*  month name\n",
        "*  week number of the year  \n",
        "*  weekday of the week (as a number)  \n",
        "*  day of year  \n",
        "*  day of the month  \n",
        "*  day of week (as a name)  \n",
        "\n",
        "*Hint:  see w3Schools for [strftime reference](https://www.w3schools.com/python/python_datetime.asp)*\n",
        "\n"
      ]
    },
    {
      "cell_type": "code",
      "execution_count": null,
      "metadata": {
        "id": "iKsefU9ncuzl"
      },
      "outputs": [],
      "source": []
    },
    {
      "cell_type": "markdown",
      "metadata": {
        "id": "fvDfw6C6cvwA"
      },
      "source": [
        "---\n",
        "### Exercise 8 - next 6 days\n",
        "\n",
        "Write a function that will take a date and generate the dates of the following 6 days.  It should print each of the 6 days in the form:  \n",
        "\n",
        "DAY OF THE WEEK, MONTH NAME, FULL YEAR\n",
        "\n",
        "Hint:  to generate the days, use the function datetime.timedelta(), there is a good example of its use [here](https://www.geeksforgeeks.org/python-datetime-timedelta-function/)  "
      ]
    },
    {
      "cell_type": "code",
      "execution_count": null,
      "metadata": {
        "id": "qPrZzv7_cwJi"
      },
      "outputs": [],
      "source": []
    }
  ],
  "metadata": {
    "colab": {
      "provenance": []
    },
    "kernelspec": {
      "display_name": "Python 3",
      "name": "python3"
    },
    "language_info": {
      "name": "python"
    }
  },
  "nbformat": 4,
  "nbformat_minor": 0
}